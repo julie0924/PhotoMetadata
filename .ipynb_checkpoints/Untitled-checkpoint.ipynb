{
 "cells": [
  {
   "cell_type": "code",
   "execution_count": 1,
   "id": "110a255f",
   "metadata": {},
   "outputs": [],
   "source": [
    "import pandas as pd\n",
    "import numpy as np\n",
    "import csv"
   ]
  },
  {
   "cell_type": "code",
   "execution_count": 14,
   "id": "15df875b",
   "metadata": {},
   "outputs": [
    {
     "name": "stdout",
     "output_type": "stream",
     "text": [
      "                   FILE_NAME DATE_ANNOTATED  MKGROUP  TOTAL_NUM_MK  \\\n",
      "1597  20220803_SD04_5273.JPG     2022-08-03  Zombies             1   \n",
      "1598  20220803_SD04_5274.JPG     2022-08-03  Zombies             1   \n",
      "1599  20220803_SD04_5275.JPG     2022-08-03  Zombies             1   \n",
      "1600  20220803_SD04_5276.JPG     2022-08-03  Zombies             2   \n",
      "1601  20220803_SD04_5277.JPG     2022-08-03  Zombies             2   \n",
      "1602  20220803_SD04_5278.JPG     2022-08-03  Zombies             2   \n",
      "1603  20220803_SD04_5279.JPG     2022-08-03  Zombies             2   \n",
      "1604  20220803_SD04_5280.JPG     2022-08-03  Zombies             2   \n",
      "1605  20220803_SD04_5281.JPG     2022-08-03  Zombies             2   \n",
      "1606  20220803_SD04_5282.JPG     2022-08-03  Zombies             2   \n",
      "\n",
      "      IDABLE_NUM_MK       MKIDS Unnamed: 6  \n",
      "1597              1       [94B]        NaN  \n",
      "1598              1       [94B]        NaN  \n",
      "1599              1       [94B]        NaN  \n",
      "1600              2  [94B, 98K]        NaN  \n",
      "1601              2  [94B, 98K]        NaN  \n",
      "1602              2  [94B, 98K]        NaN  \n",
      "1603              2  [94B, 98K]        NaN  \n",
      "1604              2  [94B, 98K]        NaN  \n",
      "1605              2  [94B, 98K]        NaN  \n",
      "1606              2  [94B, 98K]        NaN  \n"
     ]
    }
   ],
   "source": [
    "org_csv = pd.read_csv(\"./ZBcsvAfterBB/ZBafterBB.csv\")\n",
    "print(org_csv.tail(10))"
   ]
  },
  {
   "cell_type": "code",
   "execution_count": 22,
   "id": "39cd5cdf",
   "metadata": {},
   "outputs": [
    {
     "data": {
      "text/plain": [
       "array([nan, 'Toy-Kong', 'Toy-Ziggs', 'Unknown', '110E Body',\n",
       "       'Photo tilted', '69X Body', 'Unknown ', 'J Baby',\n",
       "       'Unknown1- Jbaby, Unknown2 ? Female Adult',\n",
       "       'do not know which one is which', 'Toy-Unknown',\n",
       "       'Toy-Ziggs, Unknown 2', 'Toy-Dental Kong, Toy-Ziggs, Toy-Grenade',\n",
       "       '7124', '110E', '59K', '81G, 59K', '81G', '67G', '59K not seen',\n",
       "       'incorrect labeling (81G fixed to 67G)',\n",
       "       '143H, incorrect labeling (81G fixed to 67G)', '69X',\n",
       "       '129K not shown', 'Could be 59K?',\n",
       "       'not in file folder (= no bounding box)', 'Unknown1, Unknown2',\n",
       "       'Toy-Grenade'], dtype=object)"
      ]
     },
     "execution_count": 22,
     "metadata": {},
     "output_type": "execute_result"
    }
   ],
   "source": [
    "# Look at the new column that was added during BoundingBox annotation\n",
    "last_col = org_csv.iloc[:,-1]\n",
    "possibilities = last_col.unique()"
   ]
  },
  {
   "cell_type": "code",
   "execution_count": 29,
   "id": "d3c48bc8",
   "metadata": {},
   "outputs": [
    {
     "name": "stdout",
     "output_type": "stream",
     "text": [
      "Toy-Kong\n",
      "Toy-Kong\n",
      "Toy-Kong\n",
      "Toy-Kong\n",
      "Toy-Ziggs\n",
      "Toy-Ziggs\n",
      "Toy-Ziggs\n",
      "Toy-Ziggs\n",
      "Toy-Unknown\n",
      "Toy-Ziggs, Unknown 2\n",
      "Toy-Ziggs, Unknown 2\n",
      "Toy-Ziggs\n",
      "Toy-Ziggs\n",
      "Toy-Dental Kong, Toy-Ziggs, Toy-Grenade\n",
      "Toy-Kong\n",
      "Toy-Kong\n",
      "Toy-Kong\n",
      "Toy-Ziggs\n",
      "Toy-Ziggs\n",
      "Toy-Ziggs\n",
      "Toy-Ziggs\n",
      "Toy-Ziggs\n",
      "Toy-Ziggs\n",
      "Toy-Kong\n",
      "Toy-Kong\n",
      "Toy-Kong\n",
      "Toy-Kong\n",
      "Toy-Kong\n",
      "Toy-Kong\n",
      "Toy-Kong\n",
      "Toy-Kong\n",
      "Toy-Kong\n",
      "Toy-Kong\n",
      "Toy-Kong\n",
      "Toy-Kong\n",
      "Toy-Kong\n",
      "Toy-Kong\n",
      "Toy-Kong\n",
      "Toy-Kong\n",
      "Toy-Ziggs\n",
      "Toy-Ziggs\n",
      "Toy-Grenade\n",
      "Toy-Grenade\n",
      "Toy-Grenade\n",
      "Toy-Grenade\n",
      "Toy-Ziggs\n",
      "Toy-Ziggs\n",
      "Toy-Ziggs\n",
      "Toy-Ziggs\n",
      "Toy-Ziggs\n"
     ]
    }
   ],
   "source": [
    "# Make two columns (one for toys and monkeys and another for miscell comments)\n",
    "for row in last_col:\n",
    "    if type(row) is str and \"Toy\" in str(row):\n",
    "        "
   ]
  },
  {
   "cell_type": "markdown",
   "id": "4b05e4c2",
   "metadata": {},
   "source": [
    "hello"
   ]
  },
  {
   "cell_type": "code",
   "execution_count": null,
   "id": "7ccebcfa",
   "metadata": {},
   "outputs": [],
   "source": []
  }
 ],
 "metadata": {
  "kernelspec": {
   "display_name": "Python 3 (ipykernel)",
   "language": "python",
   "name": "python3"
  },
  "language_info": {
   "codemirror_mode": {
    "name": "ipython",
    "version": 3
   },
   "file_extension": ".py",
   "mimetype": "text/x-python",
   "name": "python",
   "nbconvert_exporter": "python",
   "pygments_lexer": "ipython3",
   "version": "3.8.9"
  }
 },
 "nbformat": 4,
 "nbformat_minor": 5
}

{
 "cells": [
  {
   "cell_type": "code",
   "execution_count": 1,
   "metadata": {
    "id": "toYsCJ6vTW-j"
   },
   "outputs": [],
   "source": [
    "import pandas as pd\n",
    "import io\n",
    "import csv\n",
    "from pandas import *"
   ]
  },
  {
   "cell_type": "code",
   "execution_count": 2,
   "metadata": {
    "colab": {
     "base_uri": "https://localhost:8080/",
     "height": 73
    },
    "id": "rOu4IApBAFuu",
    "outputId": "18fc4ec3-6191-41da-d56b-38cf92eda2ce"
   },
   "outputs": [
    {
     "ename": "ModuleNotFoundError",
     "evalue": "No module named 'google'",
     "output_type": "error",
     "traceback": [
      "\u001b[0;31m---------------------------------------------------------------------------\u001b[0m",
      "\u001b[0;31mModuleNotFoundError\u001b[0m                       Traceback (most recent call last)",
      "Input \u001b[0;32mIn [2]\u001b[0m, in \u001b[0;36m<cell line: 1>\u001b[0;34m()\u001b[0m\n\u001b[0;32m----> 1\u001b[0m \u001b[38;5;28;01mfrom\u001b[39;00m \u001b[38;5;21;01mgoogle\u001b[39;00m\u001b[38;5;21;01m.\u001b[39;00m\u001b[38;5;21;01mcolab\u001b[39;00m \u001b[38;5;28;01mimport\u001b[39;00m files\n\u001b[1;32m      2\u001b[0m uploaded \u001b[38;5;241m=\u001b[39m files\u001b[38;5;241m.\u001b[39mupload()\n",
      "\u001b[0;31mModuleNotFoundError\u001b[0m: No module named 'google'"
     ]
    }
   ],
   "source": [
    "from google.colab import files\n",
    "uploaded = files.upload()"
   ]
  },
  {
   "cell_type": "code",
   "execution_count": null,
   "metadata": {
    "colab": {
     "base_uri": "https://localhost:8080/"
    },
    "id": "7cQM-jlQBeLJ",
    "outputId": "dd0c30bd-9c94-4f8c-a9d7-7778e9cb4600"
   },
   "outputs": [],
   "source": [
    "#reading in csv file per column\n",
    "data = pd.read_csv(\"LabCSV.csv\")\n",
    "name = data['FILE_NAME'].tolist()\n",
    "date = data['DATE_ANNOTATED'].tolist()\n",
    "mkgroup = data['MKGROUP'].tolist()\n",
    "totmk = data['TOTAL_NUM_MK'].tolist()\n",
    "idablemk = data['IDABLE_NUM_MK'].tolist()\n",
    "mkid = data['MKIDS'].tolist()\n",
    "cmnts = data[\"Unnamed: 6\"].tolist()\n",
    "listlen = len(cmnts)\n",
    "\n",
    "#checking for consistency between new lists and old inputted list: 1607 = 1607\n",
    "print(type(data))\n",
    "\n"
   ]
  },
  {
   "cell_type": "code",
   "execution_count": null,
   "metadata": {
    "colab": {
     "base_uri": "https://localhost:8080/"
    },
    "id": "9uO96UqJbwo8",
    "outputId": "ada14591-c00d-4a98-c17b-c1b7f918ff25"
   },
   "outputs": [],
   "source": [
    "# creating the new lists \n",
    "toys = list()\n",
    "i = 0\n",
    "type(cmnts[240])\n",
    "for i in range(listlen): \n",
    "  if \"Toy\" in str(cmnts[i]): \n",
    "    toys.append(cmnts[i])\n",
    "  else: \n",
    "    toys.append(cmnts[1]) # list for toys, empty cells are nan \n",
    "\n",
    "mkidupdated = list()\n",
    "i = 0 \n",
    "for i in range(listlen): \n",
    "  if \"Unknown\" in str(cmnts[i]):\n",
    "    newStr = \"[\" + mkid[i].strip(\"[]\") + \", \" + str(cmnts[i]) + \"]\" # add the unknown to the list -- there is one cell in the comments section where the unknowns are IDed as j baby and adult female, not sure what to do with that cell\n",
    "    mkidupdated.append(newStr)\n",
    "  elif str(cmnts[i]) == \"nan\": # if the comments section is empty, proceed as always \n",
    "    mkidupdated.append(mkid[i])\n",
    "  elif \"Toy\" not in str(cmnts[i]):  \n",
    "    if \"do not\" not in str(cmnts[i]) or \"photo\" not in str(cmnts[i]) or \"file\" not in str(cmnts[i]): # some common exceptions to the normal format of the comments column: \"do not know which one is which\". \"photo tilted\", \"file not found\"\n",
    "      newStr2 = \"[\" + mkid[i].strip(\"[]\") + \", \" + str(cmnts[i]) + \"]\"\n",
    "      mkidupdated.append(newStr2)\n",
    "  else:\n",
    "    mkidupdated.append(mkid[i]) # just to catch any potential exceptions\n",
    "\n",
    "# to check for consistency \n",
    "print(toys)\n",
    "print(mkidupdated)\n",
    "print (len(toys))\n",
    "print (len(mkidupdated))\n",
    "\n"
   ]
  },
  {
   "cell_type": "code",
   "execution_count": null,
   "metadata": {
    "colab": {
     "base_uri": "https://localhost:8080/"
    },
    "id": "LAU8bXRfW0TR",
    "outputId": "7fff90e6-ea79-4552-c584-7786d79a35ef"
   },
   "outputs": [],
   "source": [
    "# creating new dataframe\n",
    "df = pd.DataFrame(list(zip(name, date, mkgroup, totmk, idablemk, mkidupdated, toys)),\n",
    "               columns =['FILE_NAME', 'DATE_ANNOTATED', 'MKGROUP', 'TOTAL_NUM_MK', 'IDABLE_NUM_MK', 'MKIDS', 'TOYS'])\n",
    "\n",
    "# print df to check \n",
    "print(df)\n",
    "\n",
    "# creating a csv file\n",
    "df.to_csv('LabCSVUpdated.csv', index=False)\n",
    "\n"
   ]
  }
 ],
 "metadata": {
  "colab": {
   "provenance": []
  },
  "kernelspec": {
   "display_name": "Python 3 (ipykernel)",
   "language": "python",
   "name": "python3"
  },
  "language_info": {
   "codemirror_mode": {
    "name": "ipython",
    "version": 3
   },
   "file_extension": ".py",
   "mimetype": "text/x-python",
   "name": "python",
   "nbconvert_exporter": "python",
   "pygments_lexer": "ipython3",
   "version": "3.8.10"
  }
 },
 "nbformat": 4,
 "nbformat_minor": 1
}

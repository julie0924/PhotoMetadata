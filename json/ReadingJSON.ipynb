{
 "cells": [
  {
   "cell_type": "code",
   "execution_count": 1,
   "id": "7a023aef-7e83-4119-b1b7-7b2dce291c24",
   "metadata": {},
   "outputs": [],
   "source": [
    "import numpy as np\n",
    "import pandas as pd\n",
    "import json"
   ]
  },
  {
   "cell_type": "code",
   "execution_count": 21,
   "id": "10de49d9-70e0-477f-a294-61ca5b117606",
   "metadata": {},
   "outputs": [],
   "source": [
    "df = pd.read_json('0331IG.json') # saves as dataframe"
   ]
  },
  {
   "cell_type": "code",
   "execution_count": 24,
   "id": "d9dbccb4-1a1e-45b2-8989-880d7dd6c77d",
   "metadata": {},
   "outputs": [
    {
     "data": {
      "text/html": [
       "<div>\n",
       "<style scoped>\n",
       "    .dataframe tbody tr th:only-of-type {\n",
       "        vertical-align: middle;\n",
       "    }\n",
       "\n",
       "    .dataframe tbody tr th {\n",
       "        vertical-align: top;\n",
       "    }\n",
       "\n",
       "    .dataframe thead th {\n",
       "        text-align: right;\n",
       "    }\n",
       "</style>\n",
       "<table border=\"1\" class=\"dataframe\">\n",
       "  <thead>\n",
       "    <tr style=\"text-align: right;\">\n",
       "      <th></th>\n",
       "      <th>image</th>\n",
       "      <th>objects</th>\n",
       "    </tr>\n",
       "  </thead>\n",
       "  <tbody>\n",
       "    <tr>\n",
       "      <th>0</th>\n",
       "      <td>{'fileName': '20220331_SD02_3464.JPG', 'detail...</td>\n",
       "      <td>[{'bndbox': {'minX': 0.29847, 'minY': 0.496257...</td>\n",
       "    </tr>\n",
       "    <tr>\n",
       "      <th>1</th>\n",
       "      <td>{'fileName': '20220331_SD02_3472.JPG', 'detail...</td>\n",
       "      <td>[{'bndbox': {'minX': 0.45220899999999997, 'min...</td>\n",
       "    </tr>\n",
       "    <tr>\n",
       "      <th>2</th>\n",
       "      <td>{'fileName': '20220331_SD02_3499.JPG', 'detail...</td>\n",
       "      <td>[{'bndbox': {'minX': 0.31612199999999996, 'min...</td>\n",
       "    </tr>\n",
       "    <tr>\n",
       "      <th>3</th>\n",
       "      <td>{'fileName': '20220331_SD02_3510.JPG', 'detail...</td>\n",
       "      <td>[{'bndbox': {'minX': 0.258353, 'minY': 0.30374...</td>\n",
       "    </tr>\n",
       "    <tr>\n",
       "      <th>4</th>\n",
       "      <td>{'fileName': '20220331_SD02_3359.JPG', 'detail...</td>\n",
       "      <td>[{'bndbox': {'minX': 0.248725, 'minY': 0.15508...</td>\n",
       "    </tr>\n",
       "  </tbody>\n",
       "</table>\n",
       "</div>"
      ],
      "text/plain": [
       "                                               image  \\\n",
       "0  {'fileName': '20220331_SD02_3464.JPG', 'detail...   \n",
       "1  {'fileName': '20220331_SD02_3472.JPG', 'detail...   \n",
       "2  {'fileName': '20220331_SD02_3499.JPG', 'detail...   \n",
       "3  {'fileName': '20220331_SD02_3510.JPG', 'detail...   \n",
       "4  {'fileName': '20220331_SD02_3359.JPG', 'detail...   \n",
       "\n",
       "                                             objects  \n",
       "0  [{'bndbox': {'minX': 0.29847, 'minY': 0.496257...  \n",
       "1  [{'bndbox': {'minX': 0.45220899999999997, 'min...  \n",
       "2  [{'bndbox': {'minX': 0.31612199999999996, 'min...  \n",
       "3  [{'bndbox': {'minX': 0.258353, 'minY': 0.30374...  \n",
       "4  [{'bndbox': {'minX': 0.248725, 'minY': 0.15508...  "
      ]
     },
     "execution_count": 24,
     "metadata": {},
     "output_type": "execute_result"
    }
   ],
   "source": [
    "df.head()"
   ]
  },
  {
   "cell_type": "code",
   "execution_count": 39,
   "id": "d6a72585",
   "metadata": {},
   "outputs": [
    {
     "data": {
      "text/plain": [
       "{'fileName': '20220331_SD02_3464.JPG',\n",
       " 'details': {'folderName': '0331IG',\n",
       "  'width': 3648.0,\n",
       "  'height': 5472.0,\n",
       "  'depth': 3}}"
      ]
     },
     "execution_count": 39,
     "metadata": {},
     "output_type": "execute_result"
    }
   ],
   "source": [
    "df['image'][0]"
   ]
  },
  {
   "cell_type": "code",
   "execution_count": 40,
   "id": "c33f10c9",
   "metadata": {},
   "outputs": [],
   "source": [
    "img = df['image'].to_dict()\n",
    "\n",
    "# Extract file names\n",
    "names = []\n",
    "for i in range(0,len(img)):\n",
    "    names.append(img[i]['fileName'])\n",
    "    \n",
    "# Extract orientation\n",
    "orientations = []\n",
    "for i in range(0,len(img)):\n",
    "    if img[i]['details']['width'] < img[i]['details']['height']:\n",
    "        orientation = 'portrait'\n",
    "        orientations.append(orientation)\n",
    "    else: \n",
    "        orientation = 'landscape'\n",
    "        orientations.append(orientation)"
   ]
  },
  {
   "cell_type": "code",
   "execution_count": 108,
   "id": "e491d0cd",
   "metadata": {},
   "outputs": [
    {
     "data": {
      "text/html": [
       "<div>\n",
       "<style scoped>\n",
       "    .dataframe tbody tr th:only-of-type {\n",
       "        vertical-align: middle;\n",
       "    }\n",
       "\n",
       "    .dataframe tbody tr th {\n",
       "        vertical-align: top;\n",
       "    }\n",
       "\n",
       "    .dataframe thead th {\n",
       "        text-align: right;\n",
       "    }\n",
       "</style>\n",
       "<table border=\"1\" class=\"dataframe\">\n",
       "  <thead>\n",
       "    <tr style=\"text-align: right;\">\n",
       "      <th></th>\n",
       "      <th>file_name</th>\n",
       "      <th>orientation</th>\n",
       "    </tr>\n",
       "  </thead>\n",
       "  <tbody>\n",
       "    <tr>\n",
       "      <th>0</th>\n",
       "      <td>20220331_SD02_3464.JPG</td>\n",
       "      <td>portrait</td>\n",
       "    </tr>\n",
       "    <tr>\n",
       "      <th>1</th>\n",
       "      <td>20220331_SD02_3472.JPG</td>\n",
       "      <td>landscape</td>\n",
       "    </tr>\n",
       "    <tr>\n",
       "      <th>2</th>\n",
       "      <td>20220331_SD02_3499.JPG</td>\n",
       "      <td>portrait</td>\n",
       "    </tr>\n",
       "    <tr>\n",
       "      <th>3</th>\n",
       "      <td>20220331_SD02_3510.JPG</td>\n",
       "      <td>portrait</td>\n",
       "    </tr>\n",
       "    <tr>\n",
       "      <th>4</th>\n",
       "      <td>20220331_SD02_3359.JPG</td>\n",
       "      <td>portrait</td>\n",
       "    </tr>\n",
       "  </tbody>\n",
       "</table>\n",
       "</div>"
      ],
      "text/plain": [
       "                file_name orientation\n",
       "0  20220331_SD02_3464.JPG    portrait\n",
       "1  20220331_SD02_3472.JPG   landscape\n",
       "2  20220331_SD02_3499.JPG    portrait\n",
       "3  20220331_SD02_3510.JPG    portrait\n",
       "4  20220331_SD02_3359.JPG    portrait"
      ]
     },
     "execution_count": 108,
     "metadata": {},
     "output_type": "execute_result"
    }
   ],
   "source": [
    "jpg_df = pd.DataFrame({'file_name': names, 'orientation': orientations})\n",
    "jpg_df.head()"
   ]
  },
  {
   "cell_type": "code",
   "execution_count": 75,
   "id": "f5f7bf17",
   "metadata": {},
   "outputs": [
    {
     "data": {
      "text/plain": [
       "'42K Face'"
      ]
     },
     "execution_count": 75,
     "metadata": {},
     "output_type": "execute_result"
    }
   ],
   "source": [
    "obj = df['objects'].to_dict()\n",
    "obj\n",
    "obj[0][0]['bndbox']\n",
    "obj[0][0]['category']['name']"
   ]
  },
  {
   "cell_type": "code",
   "execution_count": 110,
   "id": "56448615",
   "metadata": {},
   "outputs": [
    {
     "data": {
      "text/html": [
       "<div>\n",
       "<style scoped>\n",
       "    .dataframe tbody tr th:only-of-type {\n",
       "        vertical-align: middle;\n",
       "    }\n",
       "\n",
       "    .dataframe tbody tr th {\n",
       "        vertical-align: top;\n",
       "    }\n",
       "\n",
       "    .dataframe thead th {\n",
       "        text-align: right;\n",
       "    }\n",
       "</style>\n",
       "<table border=\"1\" class=\"dataframe\">\n",
       "  <thead>\n",
       "    <tr style=\"text-align: right;\">\n",
       "      <th></th>\n",
       "      <th>bndbox_name</th>\n",
       "      <th>coordinates</th>\n",
       "    </tr>\n",
       "  </thead>\n",
       "  <tbody>\n",
       "    <tr>\n",
       "      <th>0</th>\n",
       "      <td>[42K Face, 42K Body, 68E Face, 68E Body, Unkno...</td>\n",
       "      <td>[(0.29847, 0.496257, 0.5536139999999999, 0.672...</td>\n",
       "    </tr>\n",
       "    <tr>\n",
       "      <th>1</th>\n",
       "      <td>[Unknown Face, Unknown Body]</td>\n",
       "      <td>[(0.45220899999999997, 0.026510000000000002, 0...</td>\n",
       "    </tr>\n",
       "    <tr>\n",
       "      <th>2</th>\n",
       "      <td>[167I Face, 167I Body]</td>\n",
       "      <td>[(0.31612199999999996, 0.36363599999999996, 0....</td>\n",
       "    </tr>\n",
       "    <tr>\n",
       "      <th>3</th>\n",
       "      <td>[Unknown Face, Unknown Body]</td>\n",
       "      <td>[(0.258353, 0.303743, 0.497451, 0.479143999999...</td>\n",
       "    </tr>\n",
       "    <tr>\n",
       "      <th>4</th>\n",
       "      <td>[167I Face, 167I Body]</td>\n",
       "      <td>[(0.248725, 0.15508000000000002, 0.654709, 0.3...</td>\n",
       "    </tr>\n",
       "  </tbody>\n",
       "</table>\n",
       "</div>"
      ],
      "text/plain": [
       "                                         bndbox_name  \\\n",
       "0  [42K Face, 42K Body, 68E Face, 68E Body, Unkno...   \n",
       "1                       [Unknown Face, Unknown Body]   \n",
       "2                             [167I Face, 167I Body]   \n",
       "3                       [Unknown Face, Unknown Body]   \n",
       "4                             [167I Face, 167I Body]   \n",
       "\n",
       "                                         coordinates  \n",
       "0  [(0.29847, 0.496257, 0.5536139999999999, 0.672...  \n",
       "1  [(0.45220899999999997, 0.026510000000000002, 0...  \n",
       "2  [(0.31612199999999996, 0.36363599999999996, 0....  \n",
       "3  [(0.258353, 0.303743, 0.497451, 0.479143999999...  \n",
       "4  [(0.248725, 0.15508000000000002, 0.654709, 0.3...  "
      ]
     },
     "execution_count": 110,
     "metadata": {},
     "output_type": "execute_result"
    }
   ],
   "source": [
    "coord_list = []\n",
    "bndbox_name_list = []\n",
    "for i in range(len(obj)):\n",
    "    coord = []\n",
    "    bndbox_name = []\n",
    "    for j in range(len(obj[i])):\n",
    "        category_name = obj[i][j]['category']['name']\n",
    "        bndbox_dict = obj[i][j]['bndbox']\n",
    "        bndbox_tuple = (bndbox_dict['minX'], bndbox_dict['minY'], bndbox_dict['maxX'], bndbox_dict['maxY'])\n",
    "        \n",
    "        coord.append(bndbox_tuple)\n",
    "        bndbox_name.append(category_name)\n",
    "    coord_list.append(coord)\n",
    "    bndbox_name_list.append(bndbox_name)\n",
    "\n",
    "bndbox_df = pd.DataFrame({'bndbox_name': bndbox_name_list, 'coordinates': coord_list})\n",
    "bndbox_df.head()\n"
   ]
  },
  {
   "cell_type": "code",
   "execution_count": 131,
   "id": "24ce15d7",
   "metadata": {},
   "outputs": [
    {
     "data": {
      "text/html": [
       "<div>\n",
       "<style scoped>\n",
       "    .dataframe tbody tr th:only-of-type {\n",
       "        vertical-align: middle;\n",
       "    }\n",
       "\n",
       "    .dataframe tbody tr th {\n",
       "        vertical-align: top;\n",
       "    }\n",
       "\n",
       "    .dataframe thead th {\n",
       "        text-align: right;\n",
       "    }\n",
       "</style>\n",
       "<table border=\"1\" class=\"dataframe\">\n",
       "  <thead>\n",
       "    <tr style=\"text-align: right;\">\n",
       "      <th></th>\n",
       "      <th>file_name</th>\n",
       "      <th>bndbox_name</th>\n",
       "      <th>coordinates</th>\n",
       "    </tr>\n",
       "  </thead>\n",
       "  <tbody>\n",
       "    <tr>\n",
       "      <th>0</th>\n",
       "      <td>20220331_SD02_3464.JPG</td>\n",
       "      <td>42K Face</td>\n",
       "      <td>(0.29847, 0.496257, 0.5536139999999999, 0.672727)</td>\n",
       "    </tr>\n",
       "    <tr>\n",
       "      <th>0</th>\n",
       "      <td>20220331_SD02_3464.JPG</td>\n",
       "      <td>42K Body</td>\n",
       "      <td>(0.25193499999999996, 0.48984000000000005, 0.6...</td>\n",
       "    </tr>\n",
       "    <tr>\n",
       "      <th>0</th>\n",
       "      <td>20220331_SD02_3464.JPG</td>\n",
       "      <td>68E Face</td>\n",
       "      <td>(0.466962, 0.22246000000000002, 0.978854, 0.55...</td>\n",
       "    </tr>\n",
       "    <tr>\n",
       "      <th>0</th>\n",
       "      <td>20220331_SD02_3464.JPG</td>\n",
       "      <td>68E Body</td>\n",
       "      <td>(0.25995799999999997, 0.22139000000000003, 1.0...</td>\n",
       "    </tr>\n",
       "    <tr>\n",
       "      <th>0</th>\n",
       "      <td>20220331_SD02_3464.JPG</td>\n",
       "      <td>Unknown Face</td>\n",
       "      <td>(0.0, 0.12834199999999998, 0.33858699999999997...</td>\n",
       "    </tr>\n",
       "    <tr>\n",
       "      <th>0</th>\n",
       "      <td>20220331_SD02_3464.JPG</td>\n",
       "      <td>Unknown Body</td>\n",
       "      <td>(0.0, 0.12834199999999998, 0.333773, 1.0)</td>\n",
       "    </tr>\n",
       "    <tr>\n",
       "      <th>1</th>\n",
       "      <td>20220331_SD02_3472.JPG</td>\n",
       "      <td>Unknown Face</td>\n",
       "      <td>(0.45220899999999997, 0.026510000000000002, 0....</td>\n",
       "    </tr>\n",
       "    <tr>\n",
       "      <th>1</th>\n",
       "      <td>20220331_SD02_3472.JPG</td>\n",
       "      <td>Unknown Body</td>\n",
       "      <td>(0.44498000000000004, 0.025304999999999998, 0....</td>\n",
       "    </tr>\n",
       "    <tr>\n",
       "      <th>2</th>\n",
       "      <td>20220331_SD02_3499.JPG</td>\n",
       "      <td>167I Face</td>\n",
       "      <td>(0.31612199999999996, 0.36363599999999996, 0.6...</td>\n",
       "    </tr>\n",
       "    <tr>\n",
       "      <th>2</th>\n",
       "      <td>20220331_SD02_3499.JPG</td>\n",
       "      <td>167I Body</td>\n",
       "      <td>(0.003209, 0.36149699999999996, 0.773455, 0.90...</td>\n",
       "    </tr>\n",
       "    <tr>\n",
       "      <th>3</th>\n",
       "      <td>20220331_SD02_3510.JPG</td>\n",
       "      <td>Unknown Face</td>\n",
       "      <td>(0.258353, 0.303743, 0.497451, 0.4791439999999...</td>\n",
       "    </tr>\n",
       "    <tr>\n",
       "      <th>3</th>\n",
       "      <td>20220331_SD02_3510.JPG</td>\n",
       "      <td>Unknown Body</td>\n",
       "      <td>(0.10911799999999999, 0.300535, 0.52473, 0.847...</td>\n",
       "    </tr>\n",
       "    <tr>\n",
       "      <th>4</th>\n",
       "      <td>20220331_SD02_3359.JPG</td>\n",
       "      <td>167I Face</td>\n",
       "      <td>(0.248725, 0.15508000000000002, 0.654709, 0.38...</td>\n",
       "    </tr>\n",
       "    <tr>\n",
       "      <th>4</th>\n",
       "      <td>20220331_SD02_3359.JPG</td>\n",
       "      <td>167I Body</td>\n",
       "      <td>(0.060978, 0.13369, 0.929109, 0.986096)</td>\n",
       "    </tr>\n",
       "    <tr>\n",
       "      <th>5</th>\n",
       "      <td>20220331_SD02_3480.JPG</td>\n",
       "      <td>Unknown Face</td>\n",
       "      <td>(0.434868, 0.302674, 0.8328289999999999, 0.53369)</td>\n",
       "    </tr>\n",
       "  </tbody>\n",
       "</table>\n",
       "</div>"
      ],
      "text/plain": [
       "                file_name   bndbox_name  \\\n",
       "0  20220331_SD02_3464.JPG      42K Face   \n",
       "0  20220331_SD02_3464.JPG      42K Body   \n",
       "0  20220331_SD02_3464.JPG      68E Face   \n",
       "0  20220331_SD02_3464.JPG      68E Body   \n",
       "0  20220331_SD02_3464.JPG  Unknown Face   \n",
       "0  20220331_SD02_3464.JPG  Unknown Body   \n",
       "1  20220331_SD02_3472.JPG  Unknown Face   \n",
       "1  20220331_SD02_3472.JPG  Unknown Body   \n",
       "2  20220331_SD02_3499.JPG     167I Face   \n",
       "2  20220331_SD02_3499.JPG     167I Body   \n",
       "3  20220331_SD02_3510.JPG  Unknown Face   \n",
       "3  20220331_SD02_3510.JPG  Unknown Body   \n",
       "4  20220331_SD02_3359.JPG     167I Face   \n",
       "4  20220331_SD02_3359.JPG     167I Body   \n",
       "5  20220331_SD02_3480.JPG  Unknown Face   \n",
       "\n",
       "                                         coordinates  \n",
       "0  (0.29847, 0.496257, 0.5536139999999999, 0.672727)  \n",
       "0  (0.25193499999999996, 0.48984000000000005, 0.6...  \n",
       "0  (0.466962, 0.22246000000000002, 0.978854, 0.55...  \n",
       "0  (0.25995799999999997, 0.22139000000000003, 1.0...  \n",
       "0  (0.0, 0.12834199999999998, 0.33858699999999997...  \n",
       "0          (0.0, 0.12834199999999998, 0.333773, 1.0)  \n",
       "1  (0.45220899999999997, 0.026510000000000002, 0....  \n",
       "1  (0.44498000000000004, 0.025304999999999998, 0....  \n",
       "2  (0.31612199999999996, 0.36363599999999996, 0.6...  \n",
       "2  (0.003209, 0.36149699999999996, 0.773455, 0.90...  \n",
       "3  (0.258353, 0.303743, 0.497451, 0.4791439999999...  \n",
       "3  (0.10911799999999999, 0.300535, 0.52473, 0.847...  \n",
       "4  (0.248725, 0.15508000000000002, 0.654709, 0.38...  \n",
       "4            (0.060978, 0.13369, 0.929109, 0.986096)  \n",
       "5  (0.434868, 0.302674, 0.8328289999999999, 0.53369)  "
      ]
     },
     "execution_count": 131,
     "metadata": {},
     "output_type": "execute_result"
    }
   ],
   "source": [
    "merged_df = pd.concat([jpg_df['file_name'], bndbox_df], axis = 1)\n",
    "merged_df = merged_df.explode(['bndbox_name', 'coordinates'])\n",
    "merged_df.head(15)"
   ]
  },
  {
   "cell_type": "code",
   "execution_count": null,
   "id": "bf15326c",
   "metadata": {},
   "outputs": [],
   "source": [
    "\n",
    "for entry in list_of_lists:\n",
    "    bndbox_name = []\n",
    "    coord = []\n",
    "    for k, v in entry:\n",
    "        bndbox_name.append(k)\n",
    "        coord.append(v)\n",
    "    bndbox_name"
   ]
  },
  {
   "cell_type": "code",
   "execution_count": 100,
   "id": "02f15ef1-9680-4e7c-b7ec-57401d49d647",
   "metadata": {},
   "outputs": [
    {
     "name": "stdout",
     "output_type": "stream",
     "text": [
      "<class 'list'>\n",
      "[{'image': {'fileName': '20220331_SD02_3464.JPG', 'details': {'folderName': '0331IG', 'width': 3648.0, 'height': 5472.0, 'depth': 3}}, 'objects': [{'bndbox': {'minX': 0.29847, 'minY': 0.496257, 'maxX': 0.553614, 'maxY': 0.672727}, 'category': {'name': '42K Face', 'color': '#6C167F'}, 'tags': [], 'parts': []}, {'bndbox': {'minX': 0.251935, 'minY': 0.48984, 'maxX': 0.609778, 'maxY': 0.869519}, 'category': {'name': '42K Body', 'color': '#2BC9F1'}, 'tags': [], 'parts': []}, {'bndbox': {'minX': 0.466962, 'minY': 0.22246, 'maxX': 0.978854, 'maxY': 0.552941}, 'category': {'name': '68E Face', 'color': '#3A8957'}, 'tags': [], 'parts': []}, {'bndbox': {'minX': 0.259958, 'minY': 0.22139, 'maxX': 1.0, 'maxY': 0.954011}, 'category': {'name': '68E Body', 'color': '#DCA9BE'}, 'tags': [], 'parts': []}, {'bndbox': {'minX': 0.0, 'minY': 0.128342, 'maxX': 0.338587, 'maxY': 0.409626}, 'category': {'name': 'Unknown Face', 'color': '#7A47F8'}, 'tags': [], 'parts': []}, {'bndbox': {'minX': 0.0, 'minY': 0.128342, 'maxX': 0.333773, 'maxY': 1.0}, 'category': {'name': 'Unknown Body', 'color': '#73957C'}, 'tags': [], 'parts': []}]}, {'image': {'fileName': '20220331_SD02_3472.JPG', 'details': {'folderName': '0331IG', 'width': 5472.0, 'height': 3648.0, 'depth': 3}}, 'objects': [{'bndbox': {'minX': 0.452209, 'minY': 0.02651, 'maxX': 0.697189, 'maxY': 0.354272}, 'category': {'name': 'Unknown Face', 'color': '#7A47F8'}, 'tags': [], 'parts': []}, {'bndbox': {'minX': 0.44498, 'minY': 0.025305, 'maxX': 0.889157, 'maxY': 1.0}, 'category': {'name': 'Unknown Body', 'color': '#73957C'}, 'tags': [], 'parts': []}]}, {'image': {'fileName': '20220331_SD02_3499.JPG', 'details': {'folderName': '0331IG', 'width': 3648.0, 'height': 5472.0, 'depth': 3}}, 'objects': [{'bndbox': {'minX': 0.316122, 'minY': 0.363636, 'maxX': 0.616197, 'maxY': 0.574332}, 'category': {'name': '167I Face', 'color': '#895E4D'}, 'tags': [], 'parts': []}, {'bndbox': {'minX': 0.003209, 'minY': 0.361497, 'maxX': 0.773455, 'maxY': 0.901604}, 'category': {'name': '167I Body', 'color': '#9F502C'}, 'tags': [], 'parts': []}]}, {'image': {'fileName': '20220331_SD02_3510.JPG', 'details': {'folderName': '0331IG', 'width': 3648.0, 'height': 5472.0, 'depth': 3}}, 'objects': [{'bndbox': {'minX': 0.258353, 'minY': 0.303743, 'maxX': 0.497451, 'maxY': 0.479144}, 'category': {'name': 'Unknown Face', 'color': '#7A47F8'}, 'tags': [], 'parts': []}, {'bndbox': {'minX': 0.109118, 'minY': 0.300535, 'maxX': 0.52473, 'maxY': 0.847059}, 'category': {'name': 'Unknown Body', 'color': '#73957C'}, 'tags': [], 'parts': []}]}, {'image': {'fileName': '20220331_SD02_3359.JPG', 'details': {'folderName': '0331IG', 'width': 3648.0, 'height': 5472.0, 'depth': 3}}, 'objects': [{'bndbox': {'minX': 0.248725, 'minY': 0.15508, 'maxX': 0.654709, 'maxY': 0.389305}, 'category': {'name': '167I Face', 'color': '#895E4D'}, 'tags': [], 'parts': []}, {'bndbox': {'minX': 0.060978, 'minY': 0.13369, 'maxX': 0.929109, 'maxY': 0.986096}, 'category': {'name': '167I Body', 'color': '#9F502C'}, 'tags': [], 'parts': []}]}, {'image': {'fileName': '20220331_SD02_3480.JPG', 'details': {'folderName': '0331IG', 'width': 3648.0, 'height': 5472.0, 'depth': 3}}, 'objects': [{'bndbox': {'minX': 0.434868, 'minY': 0.302674, 'maxX': 0.832829, 'maxY': 0.53369}, 'category': {'name': 'Unknown Face', 'color': '#7A47F8'}, 'tags': [], 'parts': []}, {'bndbox': {'minX': 0.001605, 'minY': 0.304813, 'maxX': 0.808758, 'maxY': 1.0}, 'category': {'name': 'Unknown Body', 'color': '#73957C'}, 'tags': [], 'parts': []}]}, {'image': {'fileName': '20220331_SD02_3448.JPG', 'details': {'folderName': '0331IG', 'width': 3648.0, 'height': 5472.0, 'depth': 3}}, 'objects': [{'bndbox': {'minX': 0.187747, 'minY': 0.412834, 'maxX': 0.431659, 'maxY': 0.573262}, 'category': {'name': '42K Face', 'color': '#6C167F'}, 'tags': [], 'parts': []}, {'bndbox': {'minX': 0.171701, 'minY': 0.408556, 'maxX': 0.513497, 'maxY': 0.879144}, 'category': {'name': '42K Body', 'color': '#2BC9F1'}, 'tags': [], 'parts': []}, {'bndbox': {'minX': 0.295261, 'minY': 0.095187, 'maxX': 0.739757, 'maxY': 0.403209}, 'category': {'name': '68E Face', 'color': '#3A8957'}, 'tags': [], 'parts': []}, {'bndbox': {'minX': 0.0, 'minY': 0.096257, 'maxX': 1.0, 'maxY': 1.0}, 'category': {'name': '68E Body', 'color': '#DCA9BE'}, 'tags': [], 'parts': []}]}, {'image': {'fileName': '20220331_SD02_3340.JPG', 'details': {'folderName': '0331IG', 'width': 3648.0, 'height': 5472.0, 'depth': 3}}, 'objects': [{'bndbox': {'minX': 0.328959, 'minY': 0.194652, 'maxX': 0.763827, 'maxY': 0.482353}, 'category': {'name': '167I Face', 'color': '#895E4D'}, 'tags': [], 'parts': []}, {'bndbox': {'minX': 0.004814, 'minY': 0.19893, 'maxX': 0.906644, 'maxY': 1.0}, 'category': {'name': '167I Body', 'color': '#9F502C'}, 'tags': [], 'parts': []}, {'bndbox': {'minX': 0.712478, 'minY': 0.117647, 'maxX': 0.948365, 'maxY': 0.320856}, 'category': {'name': 'Unknown Face', 'color': '#7A47F8'}, 'tags': [], 'parts': []}]}, {'image': {'fileName': '20220331_SD02_3383.JPG', 'details': {'folderName': '0331IG', 'width': 5472.0, 'height': 3648.0, 'depth': 3}}, 'objects': [{'bndbox': {'minX': 0.390361, 'minY': 0.351862, 'maxX': 0.755823, 'maxY': 0.857965}, 'category': {'name': 'Unknown Face', 'color': '#7A47F8'}, 'tags': [], 'parts': []}, {'bndbox': {'minX': 0.212048, 'minY': 0.00241, 'maxX': 0.755823, 'maxY': 0.836275}, 'category': {'name': 'Unknown Body', 'color': '#73957C'}, 'tags': [], 'parts': []}]}, {'image': {'fileName': '20220331_SD02_3502.JPG', 'details': {'folderName': '0331IG', 'width': 3648.0, 'height': 5472.0, 'depth': 3}}, 'objects': [{'bndbox': {'minX': 0.555219, 'minY': 0.175401, 'maxX': 0.808758, 'maxY': 0.362567}, 'category': {'name': '167I Face', 'color': '#895E4D'}, 'tags': [], 'parts': []}, {'bndbox': {'minX': 0.556824, 'minY': 0.106952, 'maxX': 1.0, 'maxY': 0.561497}, 'category': {'name': '167I Body', 'color': '#9F502C'}, 'tags': [], 'parts': []}, {'bndbox': {'minX': 0.0, 'minY': 0.363636, 'maxX': 0.107514, 'maxY': 0.48877}, 'category': {'name': '114J Face', 'color': '#A9927A'}, 'tags': [], 'parts': []}, {'bndbox': {'minX': 0.0, 'minY': 0.362567, 'maxX': 0.861713, 'maxY': 0.871658}, 'category': {'name': '114J Body', 'color': '#AD8A48'}, 'tags': [], 'parts': []}]}, {'image': {'fileName': '20220331_SD02_3529.JPG', 'details': {'folderName': '0331IG', 'width': 3648.0, 'height': 5472.0, 'depth': 3}}, 'objects': [{'bndbox': {'minX': 0.306494, 'minY': 0.027807, 'maxX': 0.803944, 'maxY': 0.441711}, 'category': {'name': '49Y Face', 'color': '#7F6E3D'}, 'tags': [], 'parts': []}, {'bndbox': {'minX': 0.001605, 'minY': 0.029947, 'maxX': 0.945156, 'maxY': 1.0}, 'category': {'name': '49Y Body', 'color': '#C9B6CA'}, 'tags': [], 'parts': []}]}, {'image': {'fileName': '20220331_SD02_3454.JPG', 'details': {'folderName': '0331IG', 'width': 5472.0, 'height': 3648.0, 'depth': 3}}, 'objects': [{'bndbox': {'minX': 0.123695, 'minY': 0.142191, 'maxX': 0.343775, 'maxY': 0.565149}, 'category': {'name': '35Y Face', 'color': '#CDE724'}, 'tags': [], 'parts': []}, {'bndbox': {'minX': 0.115663, 'minY': 0.142191, 'maxX': 0.692369, 'maxY': 1.0}, 'category': {'name': '35Y Body', 'color': '#94002E'}, 'tags': [], 'parts': []}, {'bndbox': {'minX': 0.674699, 'minY': 0.503693, 'maxX': 0.795181, 'maxY': 0.709749}, 'category': {'name': '42K Face', 'color': '#6C167F'}, 'tags': [], 'parts': []}, {'bndbox': {'minX': 0.641767, 'minY': 0.501283, 'maxX': 0.801606, 'maxY': 1.0}, 'category': {'name': '42K Body', 'color': '#2BC9F1'}, 'tags': [], 'parts': []}, {'bndbox': {'minX': 0.658635, 'minY': 0.018075, 'maxX': 0.896386, 'maxY': 0.379577}, 'category': {'name': '68E Face', 'color': '#3A8957'}, 'tags': [], 'parts': []}, {'bndbox': {'minX': 0.640964, 'minY': 0.01446, 'maxX': 1.0, 'maxY': 1.0}, 'category': {'name': '68E Body', 'color': '#DCA9BE'}, 'tags': [], 'parts': []}]}, {'image': {'fileName': '20220331_SD02_3497.JPG', 'details': {'folderName': '0331IG', 'width': 3648.0, 'height': 5472.0, 'depth': 3}}, 'objects': [{'bndbox': {'minX': 0.341797, 'minY': 0.274866, 'maxX': 0.596941, 'maxY': 0.440642}, 'category': {'name': '167I Face', 'color': '#895E4D'}, 'tags': [], 'parts': []}, {'bndbox': {'minX': 0.19898, 'minY': 0.265241, 'maxX': 0.739757, 'maxY': 0.743316}, 'category': {'name': '167I Body', 'color': '#9F502C'}, 'tags': [], 'parts': []}]}, {'image': {'fileName': '20220331_SD02_3365.JPG', 'details': {'folderName': '0331IG', 'width': 3648.0, 'height': 5472.0, 'depth': 3}}, 'objects': [{'bndbox': {'minX': 0.178119, 'minY': 0.0, 'maxX': 0.863317, 'maxY': 0.411765}, 'category': {'name': '167I Face', 'color': '#895E4D'}, 'tags': [], 'parts': []}, {'bndbox': {'minX': 0.004814, 'minY': 0.004278, 'maxX': 1.0, 'maxY': 1.0}, 'category': {'name': '167I Body', 'color': '#9F502C'}, 'tags': [], 'parts': []}]}, {'image': {'fileName': '20220331_SD02_3334.JPG', 'details': {'folderName': '0331IG', 'width': 5472.0, 'height': 3648.0, 'depth': 3}}, 'objects': [{'bndbox': {'minX': 0.595181, 'minY': 0.0, 'maxX': 0.949398, 'maxY': 0.557919}, 'category': {'name': '86I Face', 'color': '#524FE4'}, 'tags': [], 'parts': []}, {'bndbox': {'minX': 0.24257, 'minY': 0.01687, 'maxX': 0.951004, 'maxY': 1.0}, 'category': {'name': '86I Body', 'color': '#8353A5'}, 'tags': [], 'parts': []}]}, {'image': {'fileName': '20220331_SD02_3369.JPG', 'details': {'folderName': '0331IG', 'width': 3648.0, 'height': 5472.0, 'depth': 3}}, 'objects': [{'bndbox': {'minX': 0.205399, 'minY': 0.002139, 'maxX': 0.930714, 'maxY': 0.439572}, 'category': {'name': '144H Face', 'color': '#6A7EB7'}, 'tags': [], 'parts': []}, {'bndbox': {'minX': 0.0, 'minY': 0.003209, 'maxX': 1.0, 'maxY': 1.0}, 'category': {'name': '144H Body', 'color': '#F4A805'}, 'tags': [], 'parts': []}]}, {'image': {'fileName': '20220331_SD02_3462.JPG', 'details': {'folderName': '0331IG', 'width': 3648.0, 'height': 5472.0, 'depth': 3}}, 'objects': [{'bndbox': {'minX': 0.356239, 'minY': 0.583957, 'maxX': 0.60015, 'maxY': 0.759358}, 'category': {'name': '42K Face', 'color': '#6C167F'}, 'tags': [], 'parts': []}, {'bndbox': {'minX': 0.332169, 'minY': 0.580749, 'maxX': 0.725315, 'maxY': 0.958289}, 'category': {'name': '42K Body', 'color': '#2BC9F1'}, 'tags': [], 'parts': []}, {'bndbox': {'minX': 0.42524, 'minY': 0.11016, 'maxX': 0.869736, 'maxY': 0.397861}, 'category': {'name': '68E Face', 'color': '#3A8957'}, 'tags': [], 'parts': []}, {'bndbox': {'minX': 0.412403, 'minY': 0.11123, 'maxX': 1.0, 'maxY': 0.973262}, 'category': {'name': '68E Body', 'color': '#DCA9BE'}, 'tags': [], 'parts': []}, {'bndbox': {'minX': 0.069001, 'minY': 0.121925, 'maxX': 0.385123, 'maxY': 0.389305}, 'category': {'name': 'Unknown Face', 'color': '#7A47F8'}, 'tags': [], 'parts': []}, {'bndbox': {'minX': 0.006419, 'minY': 0.117647, 'maxX': 0.362658, 'maxY': 0.996791}, 'category': {'name': 'Unknown Body', 'color': '#73957C'}, 'tags': [], 'parts': []}]}, {'image': {'fileName': '20220331_SD02_3339.JPG', 'details': {'folderName': '0331IG', 'width': 3648.0, 'height': 5472.0, 'depth': 3}}, 'objects': [{'bndbox': {'minX': 0.215027, 'minY': 0.225668, 'maxX': 0.64829, 'maxY': 0.525134}, 'category': {'name': '167I Face', 'color': '#895E4D'}, 'tags': [], 'parts': []}, {'bndbox': {'minX': 0.011233, 'minY': 0.225668, 'maxX': 0.885783, 'maxY': 1.0}, 'category': {'name': '167I Body', 'color': '#9F502C'}, 'tags': [], 'parts': []}, {'bndbox': {'minX': 0.773455, 'minY': 0.122995, 'maxX': 0.911458, 'maxY': 0.331551}, 'category': {'name': 'Unknown Face', 'color': '#7A47F8'}, 'tags': [], 'parts': []}, {'bndbox': {'minX': 0.757409, 'minY': 0.121925, 'maxX': 0.908248, 'maxY': 0.572193}, 'category': {'name': 'Unknown Body', 'color': '#73957C'}, 'tags': [], 'parts': []}]}, {'image': {'fileName': '20220331_SD02_3377.JPG', 'details': {'folderName': '0331IG', 'width': 3648.0, 'height': 5472.0, 'depth': 3}}, 'objects': [{'bndbox': {'minX': 0.178119, 'minY': 0.0, 'maxX': 0.831224, 'maxY': 0.498396}, 'category': {'name': '79G Face', 'color': '#59CAC5'}, 'tags': [], 'parts': []}, {'bndbox': {'minX': 0.004814, 'minY': 0.003209, 'maxX': 0.956389, 'maxY': 1.0}, 'category': {'name': '79G Body', 'color': '#41B6E1'}, 'tags': [], 'parts': []}]}, {'image': {'fileName': '20220331_SD02_3474.JPG', 'details': {'folderName': '0331IG', 'width': 3648.0, 'height': 5472.0, 'depth': 3}}, 'objects': [{'bndbox': {'minX': 0.232678, 'minY': 0.104813, 'maxX': 0.643476, 'maxY': 0.331551}, 'category': {'name': 'G942 Face', 'color': '#846A12'}, 'tags': [], 'parts': []}, {'bndbox': {'minX': 0.088257, 'minY': 0.099465, 'maxX': 0.966017, 'maxY': 0.906952}, 'category': {'name': 'G942 Body', 'color': '#010C3E'}, 'tags': [], 'parts': []}]}, {'image': {'fileName': '20220331_SD02_3487.JPG', 'details': {'folderName': '0331IG', 'width': 3648.0, 'height': 5472.0, 'depth': 3}}, 'objects': [{'bndbox': {'minX': 0.259958, 'minY': 0.182888, 'maxX': 0.478194, 'maxY': 0.325134}, 'category': {'name': 'Unknown Face', 'color': '#7A47F8'}, 'tags': [], 'parts': []}, {'bndbox': {'minX': 0.184538, 'minY': 0.117647, 'maxX': 0.571266, 'maxY': 0.57754}, 'category': {'name': 'Unknown Body', 'color': '#73957C'}, 'tags': [], 'parts': []}]}, {'image': {'fileName': '20220331_SD02_3504.JPG', 'details': {'folderName': '0331IG', 'width': 3648.0, 'height': 5472.0, 'depth': 3}}, 'objects': [{'bndbox': {'minX': 0.118746, 'minY': 0.763636, 'maxX': 0.361053, 'maxY': 0.927273}, 'category': {'name': '167I Face', 'color': '#895E4D'}, 'tags': [], 'parts': []}, {'bndbox': {'minX': 0.008023, 'minY': 0.664171, 'maxX': 0.739757, 'maxY': 1.0}, 'category': {'name': '167I Body', 'color': '#9F502C'}, 'tags': [], 'parts': []}, {'bndbox': {'minX': 0.29847, 'minY': 0.027807, 'maxX': 0.547196, 'maxY': 0.218182}, 'category': {'name': 'Unknown Face', 'color': '#7A47F8'}, 'tags': [], 'parts': []}, {'bndbox': {'minX': 0.0, 'minY': 0.00107, 'maxX': 0.550405, 'maxY': 0.714439}, 'category': {'name': 'Unknown Body', 'color': '#73957C'}, 'tags': [], 'parts': []}]}, {'image': {'fileName': '20220331_SD02_3357.JPG', 'details': {'folderName': '0331IG', 'width': 3648.0, 'height': 5472.0, 'depth': 3}}, 'objects': [{'bndbox': {'minX': 0.142816, 'minY': 0.185027, 'maxX': 0.532754, 'maxY': 0.456684}, 'category': {'name': '167I Face', 'color': '#895E4D'}, 'tags': [], 'parts': []}, {'bndbox': {'minX': 0.001605, 'minY': 0.174332, 'maxX': 0.840852, 'maxY': 0.981818}, 'category': {'name': '167I Body', 'color': '#9F502C'}, 'tags': [], 'parts': []}]}, {'image': {'fileName': '20220331_SD02_3490.JPG', 'details': {'folderName': '0331IG', 'width': 3648.0, 'height': 5472.0, 'depth': 3}}, 'objects': [{'bndbox': {'minX': 0.139607, 'minY': 0.131551, 'maxX': 0.622616, 'maxY': 0.473797}, 'category': {'name': '144H Face', 'color': '#6A7EB7'}, 'tags': [], 'parts': []}, {'bndbox': {'minX': 0.139607, 'minY': 0.130481, 'maxX': 1.0, 'maxY': 1.0}, 'category': {'name': '144H Body', 'color': '#F4A805'}, 'tags': [], 'parts': []}]}, {'image': {'fileName': '20220331_SD02_3350.JPG', 'details': {'folderName': '0331IG', 'width': 3648.0, 'height': 5472.0, 'depth': 3}}, 'objects': [{'bndbox': {'minX': 0.069001, 'minY': 0.11016, 'maxX': 0.828015, 'maxY': 1.0}, 'category': {'name': '70G Body', 'color': '#7B3C02'}, 'tags': [], 'parts': []}, {'bndbox': {'minX': 0.247121, 'minY': 0.118717, 'maxX': 0.736548, 'maxY': 0.441711}, 'category': {'name': '70G Face', 'color': '#464D77'}, 'tags': [], 'parts': []}]}, {'image': {'fileName': '20220331_SD02_3522.JPG', 'details': {'folderName': '0331IG', 'width': 3648.0, 'height': 5472.0, 'depth': 3}}, 'objects': [{'bndbox': {'minX': 0.168491, 'minY': 0.108021, 'maxX': 0.633848, 'maxY': 0.408556}, 'category': {'name': '144H Face', 'color': '#6A7EB7'}, 'tags': [], 'parts': []}, {'bndbox': {'minX': 0.157259, 'minY': 0.104813, 'maxX': 1.0, 'maxY': 1.0}, 'category': {'name': '144H Body', 'color': '#F4A805'}, 'tags': [], 'parts': []}]}, {'image': {'fileName': '20220331_SD02_3438.JPG', 'details': {'folderName': '0331IG', 'width': 3648.0, 'height': 5472.0, 'depth': 3}}, 'objects': [{'bndbox': {'minX': 0.113932, 'minY': 0.006417, 'maxX': 0.638662, 'maxY': 0.386096}, 'category': {'name': '79G Face', 'color': '#59CAC5'}, 'tags': [], 'parts': []}, {'bndbox': {'minX': 0.101095, 'minY': 0.004278, 'maxX': 1.0, 'maxY': 1.0}, 'category': {'name': '79G Body', 'color': '#41B6E1'}, 'tags': [], 'parts': []}]}, {'image': {'fileName': '20220331_SD02_3494.JPG', 'details': {'folderName': '0331IG', 'width': 3648.0, 'height': 5472.0, 'depth': 3}}, 'objects': [{'bndbox': {'minX': 0.040117, 'minY': 0.321925, 'maxX': 0.282424, 'maxY': 0.494118}, 'category': {'name': 'Unknown Face', 'color': '#7A47F8'}, 'tags': [], 'parts': []}, {'bndbox': {'minX': 0.046536, 'minY': 0.791444, 'maxX': 0.410798, 'maxY': 0.982888}, 'category': {'name': 'Unknown Face', 'color': '#7A47F8'}, 'tags': [], 'parts': []}, {'bndbox': {'minX': 0.008023, 'minY': 0.17754, 'maxX': 0.657919, 'maxY': 0.865241}, 'category': {'name': 'Unknown Body', 'color': '#73957C'}, 'tags': [], 'parts': []}, {'bndbox': {'minX': 0.044931, 'minY': 0.618182, 'maxX': 0.917877, 'maxY': 1.0}, 'category': {'name': 'Unknown Body', 'color': '#73957C'}, 'tags': [], 'parts': []}]}, {'image': {'fileName': '20220331_SD02_3485.JPG', 'details': {'folderName': '0331IG', 'width': 3648.0, 'height': 5472.0, 'depth': 3}}, 'objects': [{'bndbox': {'minX': 0.085048, 'minY': 0.256684, 'maxX': 0.309703, 'maxY': 0.432086}, 'category': {'name': 'Unknown Face', 'color': '#7A47F8'}, 'tags': [], 'parts': []}, {'bndbox': {'minX': 0.054559, 'minY': 0.055615, 'maxX': 0.584103, 'maxY': 1.0}, 'category': {'name': 'Unknown Body', 'color': '#73957C'}, 'tags': [], 'parts': []}]}, {'image': {'fileName': '20220331_SD02_3353.JPG', 'details': {'folderName': '0331IG', 'width': 3648.0, 'height': 5472.0, 'depth': 3}}, 'objects': [{'bndbox': {'minX': 0.227864, 'minY': 0.011765, 'maxX': 0.82641, 'maxY': 0.410695}, 'category': {'name': '144H Face', 'color': '#6A7EB7'}, 'tags': [], 'parts': []}, {'bndbox': {'minX': 0.083443, 'minY': 0.008556, 'maxX': 0.932319, 'maxY': 1.0}, 'category': {'name': '144H Body', 'color': '#F4A805'}, 'tags': [], 'parts': []}]}, {'image': {'fileName': '20220331_SD02_3370.JPG', 'details': {'folderName': '0331IG', 'width': 3648.0, 'height': 5472.0, 'depth': 3}}, 'objects': [{'bndbox': {'minX': 0.101095, 'minY': 0.122995, 'maxX': 0.653104, 'maxY': 0.505882}, 'category': {'name': '144H Face', 'color': '#6A7EB7'}, 'tags': [], 'parts': []}, {'bndbox': {'minX': 0.028884, 'minY': 0.121925, 'maxX': 1.0, 'maxY': 1.0}, 'category': {'name': '144H Body', 'color': '#F4A805'}, 'tags': [], 'parts': []}]}, {'image': {'fileName': '20220331_SD02_3515.JPG', 'details': {'folderName': '0331IG', 'width': 3648.0, 'height': 5472.0, 'depth': 3}}, 'objects': [{'bndbox': {'minX': 0.27761, 'minY': 0.277005, 'maxX': 0.502265, 'maxY': 0.433155}, 'category': {'name': 'Unknown Face', 'color': '#7A47F8'}, 'tags': [], 'parts': []}, {'bndbox': {'minX': 0.157259, 'minY': 0.258824, 'maxX': 0.810363, 'maxY': 0.774332}, 'category': {'name': 'Unknown Body', 'color': '#73957C'}, 'tags': [], 'parts': []}]}, {'image': {'fileName': '20220331_SD02_3344.JPG', 'details': {'folderName': '0331IG', 'width': 5472.0, 'height': 3648.0, 'depth': 3}}, 'objects': [{'bndbox': {'minX': 0.315663, 'minY': 0.155446, 'maxX': 0.498795, 'maxY': 0.427778}, 'category': {'name': '114J Face', 'color': '#A9927A'}, 'tags': [], 'parts': []}, {'bndbox': {'minX': 0.307631, 'minY': 0.148216, 'maxX': 0.649799, 'maxY': 0.776025}, 'category': {'name': '114J Body', 'color': '#AD8A48'}, 'tags': [], 'parts': []}, {'bndbox': {'minX': 0.387149, 'minY': 0.0, 'maxX': 0.80241, 'maxY': 0.542253}, 'category': {'name': '35Y Body', 'color': '#94002E'}, 'tags': [], 'parts': []}]}, {'image': {'fileName': '20220331_SD02_3524.JPG', 'details': {'folderName': '0331IG', 'width': 3648.0, 'height': 5472.0, 'depth': 3}}, 'objects': [{'bndbox': {'minX': 0.367472, 'minY': 0.440642, 'maxX': 0.518311, 'maxY': 0.573262}, 'category': {'name': 'Unknown Face', 'color': '#7A47F8'}, 'tags': [], 'parts': []}, {'bndbox': {'minX': 0.003209, 'minY': 0.438503, 'maxX': 0.527939, 'maxY': 0.856684}, 'category': {'name': 'Unknown Body', 'color': '#73957C'}, 'tags': [], 'parts': []}]}, {'image': {'fileName': '20220331_SD02_3530.JPG', 'details': {'folderName': '0331IG', 'width': 3648.0, 'height': 5472.0, 'depth': 3}}, 'objects': [{'bndbox': {'minX': 0.171701, 'minY': 0.013904, 'maxX': 0.797526, 'maxY': 0.483422}, 'category': {'name': '35Y Face', 'color': '#CDE724'}, 'tags': [], 'parts': []}, {'bndbox': {'minX': 0.107514, 'minY': 0.011765, 'maxX': 1.0, 'maxY': 1.0}, 'category': {'name': '35Y Body', 'color': '#94002E'}, 'tags': [], 'parts': []}]}, {'image': {'fileName': '20220331_SD02_3387.JPG', 'details': {'folderName': '0331IG', 'width': 3648.0, 'height': 5472.0, 'depth': 3}}, 'objects': [{'bndbox': {'minX': 0.389937, 'minY': 0.004278, 'maxX': 0.941947, 'maxY': 0.440642}, 'category': {'name': '42Z Face', 'color': '#7E6AAA'}, 'tags': [], 'parts': []}, {'bndbox': {'minX': 0.052954, 'minY': 0.004278, 'maxX': 1.0, 'maxY': 1.0}, 'category': {'name': '42Z Body', 'color': '#0206FA'}, 'tags': [], 'parts': []}]}, {'image': {'fileName': '20220331_SD02_3347.JPG', 'details': {'folderName': '0331IG', 'width': 3648.0, 'height': 5472.0, 'depth': 3}}, 'objects': [{'bndbox': {'minX': 0.178119, 'minY': 0.121925, 'maxX': 0.55201, 'maxY': 0.374332}, 'category': {'name': '167I Face', 'color': '#895E4D'}, 'tags': [], 'parts': []}, {'bndbox': {'minX': 0.0, 'minY': 0.112299, 'maxX': 0.70285, 'maxY': 0.949733}, 'category': {'name': '167I Body', 'color': '#9F502C'}, 'tags': [], 'parts': []}]}, {'image': {'fileName': '20220331_SD02_3479.JPG', 'details': {'folderName': '0331IG', 'width': 3648.0, 'height': 5472.0, 'depth': 3}}, 'objects': [{'bndbox': {'minX': 0.190957, 'minY': 0.33369, 'maxX': 0.431659, 'maxY': 0.490909}, 'category': {'name': 'Unknown Face', 'color': '#7A47F8'}, 'tags': [], 'parts': []}, {'bndbox': {'minX': 0.176515, 'minY': 0.335829, 'maxX': 0.580894, 'maxY': 1.0}, 'category': {'name': 'Unknown Body', 'color': '#73957C'}, 'tags': [], 'parts': []}]}, {'image': {'fileName': '20220331_SD02_3492.JPG', 'details': {'folderName': '0331IG', 'width': 3648.0, 'height': 5472.0, 'depth': 3}}, 'objects': [{'bndbox': {'minX': 0.574475, 'minY': 0.694118, 'maxX': 0.800735, 'maxY': 0.871658}, 'category': {'name': '134J Face', 'color': '#83577C'}, 'tags': [], 'parts': []}, {'bndbox': {'minX': 0.431659, 'minY': 0.691979, 'maxX': 0.929109, 'maxY': 1.0}, 'category': {'name': '134J Body', 'color': '#1EBF99'}, 'tags': [], 'parts': []}, {'bndbox': {'minX': 0.237493, 'minY': 0.298396, 'maxX': 0.462148, 'maxY': 0.424599}, 'category': {'name': '114J Face', 'color': '#A9927A'}, 'tags': [], 'parts': []}, {'bndbox': {'minX': 0.02407, 'minY': 0.086631, 'maxX': 0.516707, 'maxY': 1.0}, 'category': {'name': '114J Body', 'color': '#AD8A48'}, 'tags': [], 'parts': []}]}, {'image': {'fileName': '20220331_SD02_3507.JPG', 'details': {'folderName': '0331IG', 'width': 5472.0, 'height': 3648.0, 'depth': 3}}, 'objects': [{'bndbox': {'minX': 0.35502, 'minY': 0.04579, 'maxX': 0.546185, 'maxY': 0.295227}, 'category': {'name': '167I Face', 'color': '#895E4D'}, 'tags': [], 'parts': []}, {'bndbox': {'minX': 0.353414, 'minY': 0.04579, 'maxX': 0.902008, 'maxY': 0.945931}, 'category': {'name': '167I Body', 'color': '#9F502C'}, 'tags': [], 'parts': []}]}, {'image': {'fileName': '20220331_SD02_3458.JPG', 'details': {'folderName': '0331IG', 'width': 3648.0, 'height': 5472.0, 'depth': 3}}, 'objects': [{'bndbox': {'minX': 0.22626, 'minY': 0.143316, 'maxX': 0.566452, 'maxY': 0.362567}, 'category': {'name': 'G942 Face', 'color': '#846A12'}, 'tags': [], 'parts': []}, {'bndbox': {'minX': 0.043326, 'minY': 0.145455, 'maxX': 0.860108, 'maxY': 0.86631}, 'category': {'name': 'G942 Body', 'color': '#010C3E'}, 'tags': [], 'parts': []}]}, {'image': {'fileName': '20220331_SD02_3483.JPG', 'details': {'folderName': '0331IG', 'width': 3648.0, 'height': 5472.0, 'depth': 3}}, 'objects': [{'bndbox': {'minX': 0.107514, 'minY': 0.271658, 'maxX': 0.420426, 'maxY': 0.514439}, 'category': {'name': 'Unknown Face', 'color': '#7A47F8'}, 'tags': [], 'parts': []}, {'bndbox': {'minX': 0.107514, 'minY': 0.2, 'maxX': 1.0, 'maxY': 0.840642}, 'category': {'name': 'Unknown Body', 'color': '#73957C'}, 'tags': [], 'parts': []}]}, {'image': {'fileName': '20220331_SD02_3440.JPG', 'details': {'folderName': '0331IG', 'width': 3648.0, 'height': 5472.0, 'depth': 3}}, 'objects': [{'bndbox': {'minX': 0.12356, 'minY': 0.045989, 'maxX': 0.616197, 'maxY': 0.429947}, 'category': {'name': '79G Face', 'color': '#59CAC5'}, 'tags': [], 'parts': []}, {'bndbox': {'minX': 0.064187, 'minY': 0.047059, 'maxX': 1.0, 'maxY': 1.0}, 'category': {'name': '79G Body', 'color': '#41B6E1'}, 'tags': [], 'parts': []}]}, {'image': {'fileName': '20220331_SD02_3488.JPG', 'details': {'folderName': '0331IG', 'width': 3648.0, 'height': 5472.0, 'depth': 3}}, 'objects': [{'bndbox': {'minX': 0.259958, 'minY': 0.361497, 'maxX': 0.494241, 'maxY': 0.524064}, 'category': {'name': 'Unknown Face', 'color': '#7A47F8'}, 'tags': [], 'parts': []}, {'bndbox': {'minX': 0.0, 'minY': 0.141176, 'maxX': 0.685198, 'maxY': 0.882353}, 'category': {'name': 'Unknown Body', 'color': '#73957C'}, 'tags': [], 'parts': []}]}, {'image': {'fileName': '20220331_SD02_3453.JPG', 'details': {'folderName': '0331IG', 'width': 5472.0, 'height': 3648.0, 'depth': 3}}, 'objects': [{'bndbox': {'minX': 0.608835, 'minY': 0.510923, 'maxX': 0.756627, 'maxY': 0.72662}, 'category': {'name': '42K Face', 'color': '#6C167F'}, 'tags': [], 'parts': []}, {'bndbox': {'minX': 0.60241, 'minY': 0.510923, 'maxX': 0.761446, 'maxY': 0.942316}, 'category': {'name': '42K Body', 'color': '#2BC9F1'}, 'tags': [], 'parts': []}, {'bndbox': {'minX': 0.623293, 'minY': 0.06266, 'maxX': 0.893173, 'maxY': 0.450673}, 'category': {'name': '68E Face', 'color': '#3A8957'}, 'tags': [], 'parts': []}, {'bndbox': {'minX': 0.586345, 'minY': 0.059045, 'maxX': 1.0, 'maxY': 1.0}, 'category': {'name': '68E Body', 'color': '#DCA9BE'}, 'tags': [], 'parts': []}, {'bndbox': {'minX': 0.023293, 'minY': 0.186776, 'maxX': 0.245783, 'maxY': 0.598889}, 'category': {'name': '35Y Face', 'color': '#CDE724'}, 'tags': [], 'parts': []}, {'bndbox': {'minX': 0.024096, 'minY': 0.145806, 'maxX': 0.62008, 'maxY': 1.0}, 'category': {'name': '35Y Body', 'color': '#94002E'}, 'tags': [], 'parts': []}]}, {'image': {'fileName': '20220331_SD02_3470.JPG', 'details': {'folderName': '0331IG', 'width': 3648.0, 'height': 5472.0, 'depth': 3}}, 'objects': [{'bndbox': {'minX': 0.040117, 'minY': 0.002139, 'maxX': 0.917877, 'maxY': 0.544385}, 'category': {'name': 'Unknown Face', 'color': '#7A47F8'}, 'tags': [], 'parts': []}, {'bndbox': {'minX': 0.0, 'minY': 0.002139, 'maxX': 1.0, 'maxY': 1.0}, 'category': {'name': 'Unknown Body', 'color': '#73957C'}, 'tags': [], 'parts': []}]}, {'image': {'fileName': '20220331_SD02_3509.JPG', 'details': {'folderName': '0331IG', 'width': 3648.0, 'height': 5472.0, 'depth': 3}}, 'objects': [{'bndbox': {'minX': 0.19898, 'minY': 0.321925, 'maxX': 0.407589, 'maxY': 0.462032}, 'category': {'name': 'Unknown Face', 'color': '#7A47F8'}, 'tags': [], 'parts': []}, {'bndbox': {'minX': 0.662733, 'minY': 0.658824, 'maxX': 0.927505, 'maxY': 0.826738}, 'category': {'name': 'Unknown Face', 'color': '#7A47F8'}, 'tags': [], 'parts': []}, {'bndbox': {'minX': 0.067397, 'minY': 0.31123, 'maxX': 0.489427, 'maxY': 1.0}, 'category': {'name': 'Unknown Body', 'color': '#73957C'}, 'tags': [], 'parts': []}, {'bndbox': {'minX': 0.327355, 'minY': 0.616043, 'maxX': 0.996506, 'maxY': 0.968984}, 'category': {'name': 'Unknown Body', 'color': '#73957C'}, 'tags': [], 'parts': []}]}, {'image': {'fileName': '20220331_SD02_3496.JPG', 'details': {'folderName': '0331IG', 'width': 3648.0, 'height': 5472.0, 'depth': 3}}, 'objects': [{'bndbox': {'minX': 0.195771, 'minY': 0.278075, 'maxX': 0.446101, 'maxY': 0.44385}, 'category': {'name': '167I Face', 'color': '#895E4D'}, 'tags': [], 'parts': []}, {'bndbox': {'minX': 0.069001, 'minY': 0.279144, 'maxX': 0.733338, 'maxY': 0.737968}, 'category': {'name': '167I Body', 'color': '#9F502C'}, 'tags': [], 'parts': []}, {'bndbox': {'minX': 0.598545, 'minY': 0.374332, 'maxX': 0.792712, 'maxY': 0.588235}, 'category': {'name': 'Unknown Face', 'color': '#7A47F8'}, 'tags': [], 'parts': []}, {'bndbox': {'minX': 0.444781, 'minY': 0.37754, 'maxX': 1.0, 'maxY': 1.0}, 'category': {'name': 'Unknown Body', 'color': '#73957C'}, 'tags': [], 'parts': []}]}, {'image': {'fileName': '20220331_SD02_3539.JPG', 'details': {'folderName': '0331IG', 'width': 3648.0, 'height': 5472.0, 'depth': 3}}, 'objects': [{'bndbox': {'minX': 0.189352, 'minY': 0.121925, 'maxX': 0.527939, 'maxY': 0.382888}, 'category': {'name': '48Z Face', 'color': '#B9AB02'}, 'tags': [], 'parts': []}, {'bndbox': {'minX': 0.088257, 'minY': 0.121925, 'maxX': 0.800735, 'maxY': 0.824599}, 'category': {'name': '48Z Body', 'color': '#C342D3'}, 'tags': [], 'parts': []}]}, {'image': {'fileName': '20220331_SD02_3342.JPG', 'details': {'folderName': '0331IG', 'width': 5472.0, 'height': 3648.0, 'depth': 3}}, 'objects': [{'bndbox': {'minX': 0.37992, 'minY': 0.0, 'maxX': 0.792771, 'maxY': 0.582019}, 'category': {'name': '35Y Body', 'color': '#94002E'}, 'tags': [], 'parts': []}, {'bndbox': {'minX': 0.327711, 'minY': 0.140986, 'maxX': 0.494779, 'maxY': 0.394037}, 'category': {'name': '114J Face', 'color': '#A9927A'}, 'tags': [], 'parts': []}, {'bndbox': {'minX': 0.275502, 'minY': 0.140986, 'maxX': 0.582329, 'maxY': 0.82061}, 'category': {'name': '114J Body', 'color': '#AD8A48'}, 'tags': [], 'parts': []}]}, {'image': {'fileName': '20220331_SD02_3398.JPG', 'details': {'folderName': '0331IG', 'width': 3648.0, 'height': 5472.0, 'depth': 3}}, 'objects': [{'bndbox': {'minX': 0.215027, 'minY': 0.028877, 'maxX': 0.701245, 'maxY': 0.372193}, 'category': {'name': '70G Face', 'color': '#464D77'}, 'tags': [], 'parts': []}, {'bndbox': {'minX': 0.041722, 'minY': 0.027807, 'maxX': 0.919481, 'maxY': 1.0}, 'category': {'name': '70G Body', 'color': '#7B3C02'}, 'tags': [], 'parts': []}]}, {'image': {'fileName': '20220331_SD02_3500.JPG', 'details': {'folderName': '0331IG', 'width': 3648.0, 'height': 5472.0, 'depth': 3}}, 'objects': [{'bndbox': {'minX': 0.460543, 'minY': 0.297326, 'maxX': 0.789502, 'maxY': 0.514439}, 'category': {'name': '167I Face', 'color': '#895E4D'}, 'tags': [], 'parts': []}, {'bndbox': {'minX': 0.0, 'minY': 0.217112, 'maxX': 0.87455, 'maxY': 0.838503}, 'category': {'name': '167I Body', 'color': '#9F502C'}, 'tags': [], 'parts': []}, {'bndbox': {'minX': 0.176515, 'minY': 0.0, 'maxX': 0.441287, 'maxY': 0.108021}, 'category': {'name': '114J Face', 'color': '#A9927A'}, 'tags': [], 'parts': []}, {'bndbox': {'minX': 0.0, 'minY': 0.0, 'maxX': 0.447706, 'maxY': 0.437433}, 'category': {'name': '114J Body', 'color': '#AD8A48'}, 'tags': [], 'parts': []}]}, {'image': {'fileName': '20220331_SD02_3349.JPG', 'details': {'folderName': '0331IG', 'width': 3648.0, 'height': 5472.0, 'depth': 3}}, 'objects': [{'bndbox': {'minX': 0.009628, 'minY': 0.023529, 'maxX': 0.940342, 'maxY': 1.0}, 'category': {'name': '70G Body', 'color': '#7B3C02'}, 'tags': [], 'parts': []}, {'bndbox': {'minX': 0.025675, 'minY': 0.028877, 'maxX': 0.808758, 'maxY': 0.481283}, 'category': {'name': '70G Face', 'color': '#464D77'}, 'tags': [], 'parts': []}]}, {'image': {'fileName': '20220331_SD02_3336.JPG', 'details': {'folderName': '0331IG', 'width': 3648.0, 'height': 5472.0, 'depth': 3}}, 'objects': [{'bndbox': {'minX': 0.112328, 'minY': 0.148663, 'maxX': 0.560033, 'maxY': 0.436364}, 'category': {'name': '167I Face', 'color': '#895E4D'}, 'tags': [], 'parts': []}, {'bndbox': {'minX': 0.028884, 'minY': 0.152941, 'maxX': 0.911458, 'maxY': 1.0}, 'category': {'name': '167I Body', 'color': '#9F502C'}, 'tags': [], 'parts': []}, {'bndbox': {'minX': 0.755804, 'minY': 0.171123, 'maxX': 1.0, 'maxY': 0.418182}, 'category': {'name': 'Unknown Face', 'color': '#7A47F8'}, 'tags': [], 'parts': []}, {'bndbox': {'minX': 0.754199, 'minY': 0.164706, 'maxX': 1.0, 'maxY': 0.682353}, 'category': {'name': 'Unknown Body', 'color': '#73957C'}, 'tags': [], 'parts': []}]}, {'image': {'fileName': '20220331_SD02_3379.JPG', 'details': {'folderName': '0331IG', 'width': 3648.0, 'height': 5472.0, 'depth': 3}}, 'objects': [{'bndbox': {'minX': 0.285633, 'minY': 0.090909, 'maxX': 0.693221, 'maxY': 0.387166}, 'category': {'name': '79G Face', 'color': '#59CAC5'}, 'tags': [], 'parts': []}, {'bndbox': {'minX': 0.067397, 'minY': 0.090909, 'maxX': 0.768641, 'maxY': 1.0}, 'category': {'name': '79G Body', 'color': '#41B6E1'}, 'tags': [], 'parts': []}]}, {'image': {'fileName': '20220331_SD02_3439.JPG', 'details': {'folderName': '0331IG', 'width': 3648.0, 'height': 5472.0, 'depth': 3}}, 'objects': [{'bndbox': {'minX': 0.219841, 'minY': 0.017112, 'maxX': 0.696431, 'maxY': 0.380749}, 'category': {'name': '79G Face', 'color': '#59CAC5'}, 'tags': [], 'parts': []}, {'bndbox': {'minX': 0.152445, 'minY': 0.020321, 'maxX': 1.0, 'maxY': 1.0}, 'category': {'name': '79G Body', 'color': '#41B6E1'}, 'tags': [], 'parts': []}]}, {'image': {'fileName': '20220331_SD02_3447.JPG', 'details': {'folderName': '0331IG', 'width': 3648.0, 'height': 5472.0, 'depth': 3}}, 'objects': [{'bndbox': {'minX': 0.285633, 'minY': 0.413904, 'maxX': 0.518311, 'maxY': 0.567914}, 'category': {'name': '42K Face', 'color': '#6C167F'}, 'tags': [], 'parts': []}, {'bndbox': {'minX': 0.266377, 'minY': 0.410695, 'maxX': 0.571266, 'maxY': 0.850267}, 'category': {'name': '42K Body', 'color': '#2BC9F1'}, 'tags': [], 'parts': []}, {'bndbox': {'minX': 0.29847, 'minY': 0.060963, 'maxX': 0.746176, 'maxY': 0.354011}, 'category': {'name': '68E Face', 'color': '#3A8957'}, 'tags': [], 'parts': []}, {'bndbox': {'minX': 0.091467, 'minY': 0.057754, 'maxX': 1.0, 'maxY': 1.0}, 'category': {'name': '68E Body', 'color': '#DCA9BE'}, 'tags': [], 'parts': []}]}, {'image': {'fileName': '20220331_SD02_3463.JPG', 'details': {'folderName': '0331IG', 'width': 3648.0, 'height': 5472.0, 'depth': 3}}, 'objects': [{'bndbox': {'minX': 0.30168, 'minY': 0.552941, 'maxX': 0.563242, 'maxY': 0.719786}, 'category': {'name': '42K Face', 'color': '#6C167F'}, 'tags': [], 'parts': []}, {'bndbox': {'minX': 0.261563, 'minY': 0.551872, 'maxX': 0.568056, 'maxY': 0.959358}, 'category': {'name': '42K Body', 'color': '#2BC9F1'}, 'tags': [], 'parts': []}, {'bndbox': {'minX': 0.345006, 'minY': 0.255615, 'maxX': 0.709268, 'maxY': 0.558289}, 'category': {'name': '68E Face', 'color': '#3A8957'}, 'tags': [], 'parts': []}, {'bndbox': {'minX': 0.213422, 'minY': 0.248128, 'maxX': 1.0, 'maxY': 1.0}, 'category': {'name': '68E Body', 'color': '#DCA9BE'}, 'tags': [], 'parts': []}, {'bndbox': {'minX': 0.030489, 'minY': 0.125134, 'maxX': 0.417217, 'maxY': 0.419251}, 'category': {'name': 'Unknown Face', 'color': '#7A47F8'}, 'tags': [], 'parts': []}, {'bndbox': {'minX': 0.003209, 'minY': 0.127273, 'maxX': 0.417217, 'maxY': 1.0}, 'category': {'name': 'Unknown Body', 'color': '#73957C'}, 'tags': [], 'parts': []}]}, {'image': {'fileName': '20220331_SD02_3528.JPG', 'details': {'folderName': '0331IG', 'width': 3648.0, 'height': 5472.0, 'depth': 3}}, 'objects': [{'bndbox': {'minX': 0.309703, 'minY': 0.036364, 'maxX': 0.763827, 'maxY': 0.439572}, 'category': {'name': '49Y Face', 'color': '#7F6E3D'}, 'tags': [], 'parts': []}, {'bndbox': {'minX': 0.003209, 'minY': 0.039572, 'maxX': 0.763827, 'maxY': 1.0}, 'category': {'name': '49Y Body', 'color': '#C9B6CA'}, 'tags': [], 'parts': []}]}, {'image': {'fileName': '20220331_SD02_3471.JPG', 'details': {'folderName': '0331IG', 'width': 5472.0, 'height': 3648.0, 'depth': 3}}, 'objects': [{'bndbox': {'minX': 0.436145, 'minY': 0.114476, 'maxX': 0.684337, 'maxY': 0.472363}, 'category': {'name': 'G942 Face', 'color': '#846A12'}, 'tags': [], 'parts': []}, {'bndbox': {'minX': 0.435341, 'minY': 0.110861, 'maxX': 0.984739, 'maxY': 1.0}, 'category': {'name': 'G942 Body', 'color': '#010C3E'}, 'tags': [], 'parts': []}]}, {'image': {'fileName': '20220331_SD02_3511.JPG', 'details': {'folderName': '0331IG', 'width': 3648.0, 'height': 5472.0, 'depth': 3}}, 'objects': [{'bndbox': {'minX': 0.462148, 'minY': 0.275936, 'maxX': 0.760618, 'maxY': 0.483422}, 'category': {'name': '144H Face', 'color': '#6A7EB7'}, 'tags': [], 'parts': []}, {'bndbox': {'minX': 0.070606, 'minY': 0.126203, 'maxX': 0.763827, 'maxY': 1.0}, 'category': {'name': '144H Body', 'color': '#F4A805'}, 'tags': [], 'parts': []}]}, {'image': {'fileName': '20220331_SD02_3457.JPG', 'details': {'folderName': '0331IG', 'width': 3648.0, 'height': 5472.0, 'depth': 3}}, 'objects': [{'bndbox': {'minX': 0.154049, 'minY': 0.128342, 'maxX': 0.516707, 'maxY': 0.360428}, 'category': {'name': 'G942 Face', 'color': '#846A12'}, 'tags': [], 'parts': []}, {'bndbox': {'minX': 0.025675, 'minY': 0.124064, 'maxX': 0.847271, 'maxY': 0.795722}, 'category': {'name': 'G942 Body', 'color': '#010C3E'}, 'tags': [], 'parts': []}]}, {'image': {'fileName': '20220331_SD02_3449.JPG', 'details': {'folderName': '0331IG', 'width': 3648.0, 'height': 5472.0, 'depth': 3}}, 'objects': [{'bndbox': {'minX': 0.0, 'minY': 0.0, 'maxX': 0.836038, 'maxY': 0.501604}, 'category': {'name': '144H Face', 'color': '#6A7EB7'}, 'tags': [], 'parts': []}, {'bndbox': {'minX': 0.0, 'minY': 0.0, 'maxX': 0.999715, 'maxY': 0.997861}, 'category': {'name': '144H Body', 'color': '#F4A805'}, 'tags': [], 'parts': []}]}, {'image': {'fileName': '20220331_SD02_3503.JPG', 'details': {'folderName': '0331IG', 'width': 3648.0, 'height': 5472.0, 'depth': 3}}, 'objects': [{'bndbox': {'minX': 0.192562, 'minY': 0.299465, 'maxX': 0.454124, 'maxY': 0.458824}, 'category': {'name': '114J Face', 'color': '#A9927A'}, 'tags': [], 'parts': []}, {'bndbox': {'minX': 0.001605, 'minY': 0.294118, 'maxX': 1.0, 'maxY': 0.840642}, 'category': {'name': '114J Body', 'color': '#AD8A48'}, 'tags': [], 'parts': []}, {'bndbox': {'minX': 0.0, 'minY': 0.039572, 'maxX': 0.253539, 'maxY': 0.205348}, 'category': {'name': '167I Face', 'color': '#895E4D'}, 'tags': [], 'parts': []}, {'bndbox': {'minX': 0.0, 'minY': 0.0, 'maxX': 0.701245, 'maxY': 0.462032}, 'category': {'name': '167I Body', 'color': '#9F502C'}, 'tags': [], 'parts': []}]}, {'image': {'fileName': '20220331_SD02_3356.JPG', 'details': {'folderName': '0331IG', 'width': 3648.0, 'height': 5472.0, 'depth': 3}}, 'objects': [{'bndbox': {'minX': 0.138002, 'minY': 0.331551, 'maxX': 0.460543, 'maxY': 0.559358}, 'category': {'name': '167I Face', 'color': '#895E4D'}, 'tags': [], 'parts': []}, {'bndbox': {'minX': 0.125165, 'minY': 0.303743, 'maxX': 0.757409, 'maxY': 0.848128}, 'category': {'name': '167I Body', 'color': '#9F502C'}, 'tags': [], 'parts': []}]}, {'image': {'fileName': '20220331_SD02_3351.JPG', 'details': {'folderName': '0331IG', 'width': 3648.0, 'height': 5472.0, 'depth': 3}}, 'objects': [{'bndbox': {'minX': 0.282424, 'minY': 0.119786, 'maxX': 0.876155, 'maxY': 0.515508}, 'category': {'name': '144H Face', 'color': '#6A7EB7'}, 'tags': [], 'parts': []}, {'bndbox': {'minX': 0.237493, 'minY': 0.118717, 'maxX': 1.0, 'maxY': 1.0}, 'category': {'name': '144H Body', 'color': '#F4A805'}, 'tags': [], 'parts': []}]}, {'image': {'fileName': '20220331_SD02_3394.JPG', 'details': {'folderName': '0331IG', 'width': 3648.0, 'height': 5472.0, 'depth': 3}}, 'objects': [{'bndbox': {'minX': 0.224655, 'minY': 0.005348, 'maxX': 0.767037, 'maxY': 0.358289}, 'category': {'name': '42Z Face', 'color': '#7E6AAA'}, 'tags': [], 'parts': []}, {'bndbox': {'minX': 0.006419, 'minY': 0.00107, 'maxX': 1.0, 'maxY': 1.0}, 'category': {'name': '42Z Body', 'color': '#0206FA'}, 'tags': [], 'parts': []}]}, {'image': {'fileName': '20220331_SD02_3534.JPG', 'details': {'folderName': '0331IG', 'width': 3648.0, 'height': 5472.0, 'depth': 3}}, 'objects': [{'bndbox': {'minX': 0.160468, 'minY': 0.168984, 'maxX': 0.561638, 'maxY': 0.452406}, 'category': {'name': '59E Face', 'color': '#61B64D'}, 'tags': [], 'parts': []}, {'bndbox': {'minX': 0.0, 'minY': 0.172193, 'maxX': 0.797526, 'maxY': 1.0}, 'category': {'name': '59E Body', 'color': '#5F9CC7'}, 'tags': [], 'parts': []}]}, {'image': {'fileName': '20220331_SD02_3491.JPG', 'details': {'folderName': '0331IG', 'width': 3648.0, 'height': 5472.0, 'depth': 3}}, 'objects': [{'bndbox': {'minX': 0.409193, 'minY': 0.193583, 'maxX': 0.736548, 'maxY': 0.391444}, 'category': {'name': '114J Face', 'color': '#A9927A'}, 'tags': [], 'parts': []}, {'bndbox': {'minX': 0.001605, 'minY': 0.193583, 'maxX': 0.730129, 'maxY': 1.0}, 'category': {'name': '114J Body', 'color': '#AD8A48'}, 'tags': [], 'parts': []}]}, {'image': {'fileName': '20220331_SD02_3461.JPG', 'details': {'folderName': '0331IG', 'width': 3648.0, 'height': 5472.0, 'depth': 3}}, 'objects': [{'bndbox': {'minX': 0.430054, 'minY': 0.57754, 'maxX': 0.614592, 'maxY': 0.742246}, 'category': {'name': '42K Face', 'color': '#6C167F'}, 'tags': [], 'parts': []}, {'bndbox': {'minX': 0.369076, 'minY': 0.573262, 'maxX': 0.706059, 'maxY': 0.954011}, 'category': {'name': '42K Body', 'color': '#2BC9F1'}, 'tags': [], 'parts': []}, {'bndbox': {'minX': 0.410798, 'minY': 0.214973, 'maxX': 0.712478, 'maxY': 0.522995}, 'category': {'name': '68E Face', 'color': '#3A8957'}, 'tags': [], 'parts': []}, {'bndbox': {'minX': 0.391542, 'minY': 0.206417, 'maxX': 1.0, 'maxY': 0.990374}, 'category': {'name': '68E Body', 'color': '#DCA9BE'}, 'tags': [], 'parts': []}, {'bndbox': {'minX': 0.078629, 'minY': 0.108021, 'maxX': 0.415612, 'maxY': 0.423529}, 'category': {'name': 'Unknown Face', 'color': '#7A47F8'}, 'tags': [], 'parts': []}, {'bndbox': {'minX': 0.017651, 'minY': 0.104813, 'maxX': 0.409193, 'maxY': 1.0}, 'category': {'name': 'Unknown Body', 'color': '#73957C'}, 'tags': [], 'parts': []}]}, {'image': {'fileName': '20220331_SD02_3376.JPG', 'details': {'folderName': '0331IG', 'width': 3648.0, 'height': 5472.0, 'depth': 3}}, 'objects': [{'bndbox': {'minX': 0.171701, 'minY': 0.009626, 'maxX': 0.805549, 'maxY': 0.503743}, 'category': {'name': '79G Face', 'color': '#59CAC5'}, 'tags': [], 'parts': []}, {'bndbox': {'minX': 0.004814, 'minY': 0.011765, 'maxX': 1.0, 'maxY': 1.0}, 'category': {'name': '79G Body', 'color': '#41B6E1'}, 'tags': [], 'parts': []}]}, {'image': {'fileName': '20220331_SD02_3443.JPG', 'details': {'folderName': '0331IG', 'width': 3648.0, 'height': 5472.0, 'depth': 3}}, 'objects': [{'bndbox': {'minX': 0.197376, 'minY': 0.496257, 'maxX': 0.446101, 'maxY': 0.652406}, 'category': {'name': '42K Face', 'color': '#6C167F'}, 'tags': [], 'parts': []}, {'bndbox': {'minX': 0.134793, 'minY': 0.491979, 'maxX': 0.519916, 'maxY': 0.900535}, 'category': {'name': '42K Body', 'color': '#2BC9F1'}, 'tags': [], 'parts': []}, {'bndbox': {'minX': 0.215027, 'minY': 0.126203, 'maxX': 0.645081, 'maxY': 0.407487}, 'category': {'name': '68E Face', 'color': '#3A8957'}, 'tags': [], 'parts': []}, {'bndbox': {'minX': 0.030489, 'minY': 0.116578, 'maxX': 1.0, 'maxY': 1.0}, 'category': {'name': '68E Body', 'color': '#DCA9BE'}, 'tags': [], 'parts': []}]}, {'image': {'fileName': '20220331_SD02_3455.JPG', 'details': {'folderName': '0331IG', 'width': 3648.0, 'height': 5472.0, 'depth': 3}}, 'objects': [{'bndbox': {'minX': 0.128374, 'minY': 0.202139, 'maxX': 0.455729, 'maxY': 0.440642}, 'category': {'name': 'G942 Face', 'color': '#846A12'}, 'tags': [], 'parts': []}, {'bndbox': {'minX': 0.054559, 'minY': 0.195722, 'maxX': 0.860108, 'maxY': 0.917647}, 'category': {'name': 'G942 Body', 'color': '#010C3E'}, 'tags': [], 'parts': []}]}, {'image': {'fileName': '20220331_SD02_3473.JPG', 'details': {'folderName': '0331IG', 'width': 5472.0, 'height': 3648.0, 'depth': 3}}, 'objects': [{'bndbox': {'minX': 0.423293, 'minY': 0.080736, 'maxX': 0.661847, 'maxY': 0.431393}, 'category': {'name': 'Unknown Face', 'color': '#7A47F8'}, 'tags': [], 'parts': []}, {'bndbox': {'minX': 0.416867, 'minY': 0.080736, 'maxX': 0.851406, 'maxY': 1.0}, 'category': {'name': 'Unknown Body', 'color': '#73957C'}, 'tags': [], 'parts': []}]}, {'image': {'fileName': '20220331_SD02_3486.JPG', 'details': {'folderName': '0331IG', 'width': 3648.0, 'height': 5472.0, 'depth': 3}}, 'objects': [{'bndbox': {'minX': 0.335378, 'minY': 0.372193, 'maxX': 0.55201, 'maxY': 0.524064}, 'category': {'name': 'Unknown Face', 'color': '#7A47F8'}, 'tags': [], 'parts': []}, {'bndbox': {'minX': 0.0, 'minY': 0.214973, 'maxX': 0.553614, 'maxY': 0.631016}, 'category': {'name': 'Unknown Body', 'color': '#73957C'}, 'tags': [], 'parts': []}]}, {'image': {'fileName': '20220331_SD02_3345.JPG', 'details': {'folderName': '0331IG', 'width': 5472.0, 'height': 3648.0, 'depth': 3}}, 'objects': [{'bndbox': {'minX': 0.440161, 'minY': 0.0, 'maxX': 0.862651, 'maxY': 0.551893}, 'category': {'name': '35Y Body', 'color': '#94002E'}, 'tags': [], 'parts': []}, {'bndbox': {'minX': 0.363855, 'minY': 0.095196, 'maxX': 0.543775, 'maxY': 0.372347}, 'category': {'name': '114J Face', 'color': '#A9927A'}, 'tags': [], 'parts': []}, {'bndbox': {'minX': 0.353414, 'minY': 0.100016, 'maxX': 0.740562, 'maxY': 0.771205}, 'category': {'name': '114J Body', 'color': '#AD8A48'}, 'tags': [], 'parts': []}]}, {'image': {'fileName': '20220331_SD02_3518.JPG', 'details': {'folderName': '0331IG', 'width': 3648.0, 'height': 5472.0, 'depth': 3}}, 'objects': [{'bndbox': {'minX': 0.128374, 'minY': 0.079144, 'maxX': 0.561638, 'maxY': 0.361497}, 'category': {'name': 'Unknown Face', 'color': '#7A47F8'}, 'tags': [], 'parts': []}, {'bndbox': {'minX': 0.0, 'minY': 0.073797, 'maxX': 0.765432, 'maxY': 1.0}, 'category': {'name': 'Unknown Body', 'color': '#73957C'}, 'tags': [], 'parts': []}]}, {'image': {'fileName': '20220331_SD02_3358.JPG', 'details': {'folderName': '0331IG', 'width': 3648.0, 'height': 5472.0, 'depth': 3}}, 'objects': [{'bndbox': {'minX': 0.134793, 'minY': 0.167914, 'maxX': 0.516707, 'maxY': 0.434225}, 'category': {'name': '167I Face', 'color': '#895E4D'}, 'tags': [], 'parts': []}, {'bndbox': {'minX': 0.008023, 'minY': 0.159358, 'maxX': 0.840852, 'maxY': 0.967914}, 'category': {'name': '167I Body', 'color': '#9F502C'}, 'tags': [], 'parts': []}]}, {'image': {'fileName': '20220331_SD02_3337.JPG', 'details': {'folderName': '0331IG', 'width': 3648.0, 'height': 5472.0, 'depth': 3}}, 'objects': [{'bndbox': {'minX': 0.372286, 'minY': 0.150802, 'maxX': 0.77506, 'maxY': 0.426738}, 'category': {'name': '167I Face', 'color': '#895E4D'}, 'tags': [], 'parts': []}, {'bndbox': {'minX': 0.019256, 'minY': 0.158289, 'maxX': 0.818386, 'maxY': 1.0}, 'category': {'name': '167I Body', 'color': '#9F502C'}, 'tags': [], 'parts': []}, {'bndbox': {'minX': 0.759013, 'minY': 0.151872, 'maxX': 1.0, 'maxY': 0.404278}, 'category': {'name': 'Unknown Face', 'color': '#7A47F8'}, 'tags': [], 'parts': []}, {'bndbox': {'minX': 0.759013, 'minY': 0.148663, 'maxX': 1.0, 'maxY': 0.611765}, 'category': {'name': 'Unknown Body', 'color': '#73957C'}, 'tags': [], 'parts': []}]}, {'image': {'fileName': '20220331_SD02_3523.JPG', 'details': {'folderName': '0331IG', 'width': 3648.0, 'height': 5472.0, 'depth': 3}}, 'objects': [{'bndbox': {'minX': 0.235888, 'minY': 0.459893, 'maxX': 0.486218, 'maxY': 0.6}, 'category': {'name': 'Unknown Face', 'color': '#7A47F8'}, 'tags': [], 'parts': []}, {'bndbox': {'minX': 0.197376, 'minY': 0.454545, 'maxX': 0.585708, 'maxY': 1.0}, 'category': {'name': 'Unknown Body', 'color': '#73957C'}, 'tags': [], 'parts': []}]}, {'image': {'fileName': '20220331_SD02_3389.JPG', 'details': {'folderName': '0331IG', 'width': 3648.0, 'height': 5472.0, 'depth': 3}}, 'objects': [{'bndbox': {'minX': 0.324145, 'minY': 0.014973, 'maxX': 0.819991, 'maxY': 0.343316}, 'category': {'name': 'Unknown Face', 'color': '#7A47F8'}, 'tags': [], 'parts': []}, {'bndbox': {'minX': 0.129979, 'minY': 0.011765, 'maxX': 0.810363, 'maxY': 0.945455}, 'category': {'name': 'Unknown Body', 'color': '#73957C'}, 'tags': [], 'parts': []}]}, {'image': {'fileName': '20220331_SD02_3450.JPG', 'details': {'folderName': '0331IG', 'width': 3648.0, 'height': 5472.0, 'depth': 3}}, 'objects': [{'bndbox': {'minX': 0.057768, 'minY': 0.06631, 'maxX': 0.738152, 'maxY': 0.474866}, 'category': {'name': '144H Face', 'color': '#6A7EB7'}, 'tags': [], 'parts': []}, {'bndbox': {'minX': 0.003209, 'minY': 0.063102, 'maxX': 1.0, 'maxY': 1.0}, 'category': {'name': '144H Body', 'color': '#F4A805'}, 'tags': [], 'parts': []}]}, {'image': {'fileName': '20220331_SD02_3493.JPG', 'details': {'folderName': '0331IG', 'width': 3648.0, 'height': 5472.0, 'depth': 3}}, 'objects': [{'bndbox': {'minX': 0.269586, 'minY': 0.270588, 'maxX': 0.502265, 'maxY': 0.407487}, 'category': {'name': '134J Face', 'color': '#83577C'}, 'tags': [], 'parts': []}, {'bndbox': {'minX': 0.154049, 'minY': 0.26631, 'maxX': 0.523125, 'maxY': 0.82246}, 'category': {'name': '134J Body', 'color': '#1EBF99'}, 'tags': [], 'parts': []}]}, {'image': {'fileName': '20220331_SD02_3346.JPG', 'details': {'folderName': '0331IG', 'width': 3648.0, 'height': 5472.0, 'depth': 3}}, 'objects': [{'bndbox': {'minX': 0.32575, 'minY': 0.045989, 'maxX': 0.694826, 'maxY': 0.287701}, 'category': {'name': '167I Face', 'color': '#895E4D'}, 'tags': [], 'parts': []}, {'bndbox': {'minX': 0.19898, 'minY': 0.048128, 'maxX': 0.747781, 'maxY': 0.873797}, 'category': {'name': '167I Body', 'color': '#9F502C'}, 'tags': [], 'parts': []}]}, {'image': {'fileName': '20220331_SD02_3478.JPG', 'details': {'folderName': '0331IG', 'width': 3648.0, 'height': 5472.0, 'depth': 3}}, 'objects': [{'bndbox': {'minX': 0.638662, 'minY': 0.187166, 'maxX': 0.969226, 'maxY': 0.327273}, 'category': {'name': 'Unknown Face', 'color': '#7A47F8'}, 'tags': [], 'parts': []}, {'bndbox': {'minX': 0.0, 'minY': 0.055615, 'maxX': 0.962808, 'maxY': 0.988235}, 'category': {'name': 'Unknown Body', 'color': '#73957C'}, 'tags': [], 'parts': []}]}, {'image': {'fileName': '20220331_SD02_3352.JPG', 'details': {'folderName': '0331IG', 'width': 3648.0, 'height': 5472.0, 'depth': 3}}, 'objects': [{'bndbox': {'minX': 0.190957, 'minY': 0.050267, 'maxX': 0.77506, 'maxY': 0.44492}, 'category': {'name': '144H Face', 'color': '#6A7EB7'}, 'tags': [], 'parts': []}, {'bndbox': {'minX': 0.170096, 'minY': 0.048128, 'maxX': 0.988482, 'maxY': 1.0}, 'category': {'name': '144H Body', 'color': '#F4A805'}, 'tags': [], 'parts': []}]}, {'image': {'fileName': '20220331_SD02_3484.JPG', 'details': {'folderName': '0331IG', 'width': 3648.0, 'height': 5472.0, 'depth': 3}}, 'objects': [{'bndbox': {'minX': 0.056164, 'minY': 0.334759, 'maxX': 0.375495, 'maxY': 0.552941}, 'category': {'name': 'Unknown Face', 'color': '#7A47F8'}, 'tags': [], 'parts': []}, {'bndbox': {'minX': 0.054559, 'minY': 0.205348, 'maxX': 1.0, 'maxY': 0.809626}, 'category': {'name': 'Unknown Body', 'color': '#73957C'}, 'tags': [], 'parts': []}]}, {'image': {'fileName': '20220331_SD02_3441.JPG', 'details': {'folderName': '0331IG', 'width': 3648.0, 'height': 5472.0, 'depth': 3}}, 'objects': [{'bndbox': {'minX': 0.093071, 'minY': 0.068449, 'maxX': 0.596941, 'maxY': 0.458824}, 'category': {'name': '79G Face', 'color': '#59CAC5'}, 'tags': [], 'parts': []}, {'bndbox': {'minX': 0.069001, 'minY': 0.062032, 'maxX': 1.0, 'maxY': 1.0}, 'category': {'name': '79G Body', 'color': '#41B6E1'}, 'tags': [], 'parts': []}]}, {'image': {'fileName': '20220331_SD02_3444.JPG', 'details': {'folderName': '0331IG', 'width': 3648.0, 'height': 5472.0, 'depth': 3}}, 'objects': [{'bndbox': {'minX': 0.195771, 'minY': 0.095187, 'maxX': 0.638662, 'maxY': 0.387166}, 'category': {'name': '68E Face', 'color': '#3A8957'}, 'tags': [], 'parts': []}, {'bndbox': {'minX': 0.014442, 'minY': 0.094118, 'maxX': 0.990087, 'maxY': 0.97754}, 'category': {'name': '68E Body', 'color': '#DCA9BE'}, 'tags': [], 'parts': []}, {'bndbox': {'minX': 0.178119, 'minY': 0.432086, 'maxX': 0.415612, 'maxY': 0.588235}, 'category': {'name': '42K Face', 'color': '#6C167F'}, 'tags': [], 'parts': []}, {'bndbox': {'minX': 0.157259, 'minY': 0.42246, 'maxX': 0.515102, 'maxY': 0.855615}, 'category': {'name': '42K Body', 'color': '#2BC9F1'}, 'tags': [], 'parts': []}]}, {'image': {'fileName': '20220331_SD02_3360.JPG', 'details': {'folderName': '0331IG', 'width': 3648.0, 'height': 5472.0, 'depth': 3}}, 'objects': [{'bndbox': {'minX': 0.343401, 'minY': 0.186096, 'maxX': 0.733338, 'maxY': 0.463102}, 'category': {'name': '167I Face', 'color': '#895E4D'}, 'tags': [], 'parts': []}, {'bndbox': {'minX': 0.016047, 'minY': 0.187166, 'maxX': 0.914667, 'maxY': 1.0}, 'category': {'name': '167I Body', 'color': '#9F502C'}, 'tags': [], 'parts': []}]}, {'image': {'fileName': '20220331_SD02_3395.JPG', 'details': {'folderName': '0331IG', 'width': 3648.0, 'height': 5472.0, 'depth': 3}}, 'objects': [{'bndbox': {'minX': 0.131584, 'minY': 0.004278, 'maxX': 0.590522, 'maxY': 0.360428}, 'category': {'name': '42Z Face', 'color': '#7E6AAA'}, 'tags': [], 'parts': []}, {'bndbox': {'minX': 0.006419, 'minY': 0.003209, 'maxX': 1.0, 'maxY': 1.0}, 'category': {'name': '42Z Body', 'color': '#0206FA'}, 'tags': [], 'parts': []}]}, {'image': {'fileName': '20220331_SD02_3343.JPG', 'details': {'folderName': '0331IG', 'width': 5472.0, 'height': 3648.0, 'depth': 3}}, 'objects': [{'bndbox': {'minX': 0.350201, 'minY': 0.184366, 'maxX': 0.529317, 'maxY': 0.437418}, 'category': {'name': '114J Face', 'color': '#A9927A'}, 'tags': [], 'parts': []}, {'bndbox': {'minX': 0.302008, 'minY': 0.180751, 'maxX': 0.621687, 'maxY': 0.84712}, 'category': {'name': '114J Body', 'color': '#AD8A48'}, 'tags': [], 'parts': []}, {'bndbox': {'minX': 0.394378, 'minY': 0.0, 'maxX': 0.819277, 'maxY': 0.659139}, 'category': {'name': '35Y Body', 'color': '#94002E'}, 'tags': [], 'parts': []}]}, {'image': {'fileName': '20220331_SD02_3516.JPG', 'details': {'folderName': '0331IG', 'width': 3648.0, 'height': 5472.0, 'depth': 3}}, 'objects': [{'bndbox': {'minX': 0.052954, 'minY': 0.220321, 'maxX': 0.328959, 'maxY': 0.393583}, 'category': {'name': 'Unknown Face', 'color': '#7A47F8'}, 'tags': [], 'parts': []}, {'bndbox': {'minX': 0.036908, 'minY': 0.098396, 'maxX': 0.943551, 'maxY': 0.656684}, 'category': {'name': 'Unknown Body', 'color': '#73957C'}, 'tags': [], 'parts': []}, {'bndbox': {'minX': 0.426845, 'minY': 0.505882, 'maxX': 1.0, 'maxY': 0.878075}, 'category': {'name': 'Unknown Body', 'color': '#73957C'}, 'tags': [], 'parts': []}]}, {'image': {'fileName': '20220331_SD02_3399.JPG', 'details': {'folderName': '0331IG', 'width': 3648.0, 'height': 5472.0, 'depth': 3}}, 'objects': [{'bndbox': {'minX': 0.336983, 'minY': 0.0, 'maxX': 0.845666, 'maxY': 0.357219}, 'category': {'name': '70G Face', 'color': '#464D77'}, 'tags': [], 'parts': []}, {'bndbox': {'minX': 0.134793, 'minY': 0.002139, 'maxX': 1.0, 'maxY': 1.0}, 'category': {'name': '70G Body', 'color': '#7B3C02'}, 'tags': [], 'parts': []}]}, {'image': {'fileName': '20220331_SD02_3512.JPG', 'details': {'folderName': '0331IG', 'width': 3648.0, 'height': 5472.0, 'depth': 3}}, 'objects': [{'bndbox': {'minX': 0.351425, 'minY': 0.242781, 'maxX': 0.669151, 'maxY': 0.458824}, 'category': {'name': '144H Face', 'color': '#6A7EB7'}, 'tags': [], 'parts': []}, {'bndbox': {'minX': 0.004814, 'minY': 0.072727, 'maxX': 0.665942, 'maxY': 1.0}, 'category': {'name': '144H Body', 'color': '#F4A805'}, 'tags': [], 'parts': []}]}, {'image': {'fileName': '20220331_SD02_3525.JPG', 'details': {'folderName': '0331IG', 'width': 3648.0, 'height': 5472.0, 'depth': 3}}, 'objects': [{'bndbox': {'minX': 0.312912, 'minY': 0.416043, 'maxX': 0.556824, 'maxY': 0.57861}, 'category': {'name': 'Unknown Face', 'color': '#7A47F8'}, 'tags': [], 'parts': []}, {'bndbox': {'minX': 0.227864, 'minY': 0.412834, 'maxX': 0.665942, 'maxY': 0.857754}, 'category': {'name': 'Unknown Body', 'color': '#73957C'}, 'tags': [], 'parts': []}]}, {'image': {'fileName': '20220331_SD02_3508.JPG', 'details': {'folderName': '0331IG', 'width': 3648.0, 'height': 5472.0, 'depth': 3}}, 'objects': [{'bndbox': {'minX': 0.619406, 'minY': 0.13262, 'maxX': 0.967622, 'maxY': 0.366845}, 'category': {'name': 'Unknown Face', 'color': '#7A47F8'}, 'tags': [], 'parts': []}, {'bndbox': {'minX': 0.001605, 'minY': 0.129412, 'maxX': 0.969226, 'maxY': 0.879144}, 'category': {'name': 'Unknown Body', 'color': '#73957C'}, 'tags': [], 'parts': []}, {'bndbox': {'minX': 0.555219, 'minY': 0.313369, 'maxX': 0.998111, 'maxY': 0.856684}, 'category': {'name': 'Unknown Body', 'color': '#73957C'}, 'tags': [], 'parts': []}]}, {'image': {'fileName': '20220331_SD02_3348.JPG', 'details': {'folderName': '0331IG', 'width': 3648.0, 'height': 5472.0, 'depth': 3}}, 'objects': [{'bndbox': {'minX': 0.062582, 'minY': 0.050267, 'maxX': 0.767037, 'maxY': 0.465241}, 'category': {'name': '70G Face', 'color': '#464D77'}, 'tags': [], 'parts': []}, {'bndbox': {'minX': 0.0, 'minY': 0.042781, 'maxX': 0.97725, 'maxY': 1.0}, 'category': {'name': '70G Body', 'color': '#7B3C02'}, 'tags': [], 'parts': []}]}, {'image': {'fileName': '20220331_SD02_3489.JPG', 'details': {'folderName': '0331IG', 'width': 3648.0, 'height': 5472.0, 'depth': 3}}, 'objects': [{'bndbox': {'minX': 0.370681, 'minY': 0.28877, 'maxX': 0.598545, 'maxY': 0.451337}, 'category': {'name': 'Unknown Face', 'color': '#7A47F8'}, 'tags': [], 'parts': []}, {'bndbox': {'minX': 0.248725, 'minY': 0.28984, 'maxX': 0.638662, 'maxY': 0.791444}, 'category': {'name': 'Unknown Body', 'color': '#73957C'}, 'tags': [], 'parts': []}]}, {'image': {'fileName': '20220331_SD02_3446.JPG', 'details': {'folderName': '0331IG', 'width': 3648.0, 'height': 5472.0, 'depth': 3}}, 'objects': [{'bndbox': {'minX': 0.192562, 'minY': 0.470588, 'maxX': 0.436473, 'maxY': 0.627807}, 'category': {'name': '42K Face', 'color': '#6C167F'}, 'tags': [], 'parts': []}, {'bndbox': {'minX': 0.142816, 'minY': 0.465241, 'maxX': 0.47659, 'maxY': 0.86738}, 'category': {'name': '42K Body', 'color': '#2BC9F1'}, 'tags': [], 'parts': []}, {'bndbox': {'minX': 0.158863, 'minY': 0.097326, 'maxX': 0.55201, 'maxY': 0.359358}, 'category': {'name': '68E Face', 'color': '#3A8957'}, 'tags': [], 'parts': []}, {'bndbox': {'minX': 0.0, 'minY': 0.095187, 'maxX': 0.998111, 'maxY': 1.0}, 'category': {'name': '68E Body', 'color': '#DCA9BE'}, 'tags': [], 'parts': []}]}, {'image': {'fileName': '20220331_SD02_3495.JPG', 'details': {'folderName': '0331IG', 'width': 3648.0, 'height': 5472.0, 'depth': 3}}, 'objects': [{'bndbox': {'minX': 0.308098, 'minY': 0.04492, 'maxX': 0.588917, 'maxY': 0.210695}, 'category': {'name': 'Unknown Face', 'color': '#7A47F8'}, 'tags': [], 'parts': []}, {'bndbox': {'minX': 0.303284, 'minY': 0.033155, 'maxX': 0.720501, 'maxY': 0.84385}, 'category': {'name': 'Unknown Body', 'color': '#73957C'}, 'tags': [], 'parts': []}]}, {'image': {'fileName': '20220331_SD02_3465.JPG', 'details': {'folderName': '0331IG', 'width': 3648.0, 'height': 5472.0, 'depth': 3}}, 'objects': [{'bndbox': {'minX': 0.290447, 'minY': 0.433155, 'maxX': 0.527939, 'maxY': 0.606417}, 'category': {'name': '42K Face', 'color': '#6C167F'}, 'tags': [], 'parts': []}, {'bndbox': {'minX': 0.232678, 'minY': 0.428877, 'maxX': 0.585708, 'maxY': 0.807487}, 'category': {'name': '42K Body', 'color': '#2BC9F1'}, 'tags': [], 'parts': []}, {'bndbox': {'minX': 0.357843, 'minY': 0.22139, 'maxX': 0.781479, 'maxY': 0.521925}, 'category': {'name': '68E Face', 'color': '#3A8957'}, 'tags': [], 'parts': []}, {'bndbox': {'minX': 0.251935, 'minY': 0.181818, 'maxX': 1.0, 'maxY': 0.920856}, 'category': {'name': '68E Body', 'color': '#DCA9BE'}, 'tags': [], 'parts': []}, {'bndbox': {'minX': 0.060978, 'minY': 0.04492, 'maxX': 0.454124, 'maxY': 0.328342}, 'category': {'name': 'Unknown Face', 'color': '#7A47F8'}, 'tags': [], 'parts': []}, {'bndbox': {'minX': 0.0, 'minY': 0.039572, 'maxX': 0.444496, 'maxY': 0.988235}, 'category': {'name': 'Unknown Body', 'color': '#73957C'}, 'tags': [], 'parts': []}]}, {'image': {'fileName': '20220331_SD02_3459.JPG', 'details': {'folderName': '0331IG', 'width': 3648.0, 'height': 5472.0, 'depth': 3}}, 'objects': [{'bndbox': {'minX': 0.39796, 'minY': 0.100535, 'maxX': 0.736548, 'maxY': 0.31016}, 'category': {'name': 'G942 Face', 'color': '#846A12'}, 'tags': [], 'parts': []}, {'bndbox': {'minX': 0.001605, 'minY': 0.099465, 'maxX': 0.797526, 'maxY': 0.853476}, 'category': {'name': 'G942 Body', 'color': '#010C3E'}, 'tags': [], 'parts': []}]}, {'image': {'fileName': '20220331_SD02_3482.JPG', 'details': {'folderName': '0331IG', 'width': 3648.0, 'height': 5472.0, 'depth': 3}}, 'objects': [{'bndbox': {'minX': 0.253539, 'minY': 0.217112, 'maxX': 0.508683, 'maxY': 0.37754}, 'category': {'name': 'Unknown Face', 'color': '#7A47F8'}, 'tags': [], 'parts': []}, {'bndbox': {'minX': 0.139607, 'minY': 0.213904, 'maxX': 0.571266, 'maxY': 0.829947}, 'category': {'name': 'Unknown Body', 'color': '#73957C'}, 'tags': [], 'parts': []}]}, {'image': {'fileName': '20220331_SD02_3341.JPG', 'details': {'folderName': '0331IG', 'width': 3648.0, 'height': 5472.0, 'depth': 3}}, 'objects': [{'bndbox': {'minX': 0.306494, 'minY': 0.134759, 'maxX': 0.741362, 'maxY': 0.438503}, 'category': {'name': '167I Face', 'color': '#895E4D'}, 'tags': [], 'parts': []}, {'bndbox': {'minX': 0.008023, 'minY': 0.130481, 'maxX': 0.744571, 'maxY': 1.0}, 'category': {'name': '167I Body', 'color': '#9F502C'}, 'tags': [], 'parts': []}]}, {'image': {'fileName': '20220331_SD02_3354.JPG', 'details': {'folderName': '0331IG', 'width': 3648.0, 'height': 5472.0, 'depth': 3}}, 'objects': [{'bndbox': {'minX': 0.138002, 'minY': 0.070588, 'maxX': 0.688407, 'maxY': 0.460963}, 'category': {'name': '144H Face', 'color': '#6A7EB7'}, 'tags': [], 'parts': []}, {'bndbox': {'minX': 0.003209, 'minY': 0.056684, 'maxX': 0.897016, 'maxY': 1.0}, 'category': {'name': '144H Body', 'color': '#F4A805'}, 'tags': [], 'parts': []}]}, {'image': {'fileName': '20220331_SD02_3527.JPG', 'details': {'folderName': '0331IG', 'width': 3648.0, 'height': 5472.0, 'depth': 3}}, 'objects': [{'bndbox': {'minX': 0.402774, 'minY': 0.154011, 'maxX': 0.844061, 'maxY': 0.57754}, 'category': {'name': '49Y Face', 'color': '#7F6E3D'}, 'tags': [], 'parts': []}, {'bndbox': {'minX': 0.001605, 'minY': 0.152941, 'maxX': 0.848875, 'maxY': 1.0}, 'category': {'name': '49Y Body', 'color': '#C9B6CA'}, 'tags': [], 'parts': []}]}, {'image': {'fileName': '20220331_SD02_3501.JPG', 'details': {'folderName': '0331IG', 'width': 3648.0, 'height': 5472.0, 'depth': 3}}, 'objects': [{'bndbox': {'minX': 0.059373, 'minY': 0.576471, 'maxX': 0.369076, 'maxY': 0.80107}, 'category': {'name': '167I Face', 'color': '#895E4D'}, 'tags': [], 'parts': []}, {'bndbox': {'minX': 0.059373, 'minY': 0.258824, 'maxX': 0.720501, 'maxY': 1.0}, 'category': {'name': '167I Body', 'color': '#9F502C'}, 'tags': [], 'parts': []}, {'bndbox': {'minX': 0.0, 'minY': 0.298396, 'maxX': 0.288842, 'maxY': 0.877005}, 'category': {'name': '114J Body', 'color': '#AD8A48'}, 'tags': [], 'parts': []}]}, {'image': {'fileName': '20220331_SD02_3371.JPG', 'details': {'folderName': '0331IG', 'width': 5472.0, 'height': 3648.0, 'depth': 3}}, 'objects': [{'bndbox': {'minX': 0.22249, 'minY': 0.00241, 'maxX': 0.465863, 'maxY': 0.397653}, 'category': {'name': 'Unknown Face', 'color': '#7A47F8'}, 'tags': [], 'parts': []}, {'bndbox': {'minX': 0.213655, 'minY': 0.00241, 'maxX': 0.933333, 'maxY': 1.0}, 'category': {'name': 'Unknown Body', 'color': '#73957C'}, 'tags': [], 'parts': []}]}]\n"
     ]
    }
   ],
   "source": [
    "with open('0331IG.json') as f:\n",
    "    data = json.load(f)\n",
    "f.close()\n",
    "\n",
    "print(type(data))\n",
    "print(data)"
   ]
  },
  {
   "cell_type": "code",
   "execution_count": 104,
   "id": "4485fd80-81cb-4c73-a48a-eff000bcec91",
   "metadata": {},
   "outputs": [
    {
     "ename": "TypeError",
     "evalue": "unhashable type: 'list'",
     "output_type": "error",
     "traceback": [
      "\u001b[0;31m---------------------------------------------------------------------------\u001b[0m",
      "\u001b[0;31mTypeError\u001b[0m                                 Traceback (most recent call last)",
      "Input \u001b[0;32mIn [104]\u001b[0m, in \u001b[0;36m<cell line: 1>\u001b[0;34m()\u001b[0m\n\u001b[0;32m----> 1\u001b[0m \u001b[43mdata\u001b[49m\u001b[43m[\u001b[49m\u001b[38;5;241;43m0\u001b[39;49m\u001b[43m]\u001b[49m\u001b[43m[\u001b[49m\u001b[43m[\u001b[49m\u001b[38;5;124;43m'\u001b[39;49m\u001b[38;5;124;43mimage\u001b[39;49m\u001b[38;5;124;43m'\u001b[39;49m\u001b[43m]\u001b[49m\u001b[43m]\u001b[49m\n",
      "\u001b[0;31mTypeError\u001b[0m: unhashable type: 'list'"
     ]
    }
   ],
   "source": [
    "data[0][['image']]"
   ]
  },
  {
   "cell_type": "code",
   "execution_count": 16,
   "id": "50ef1f5f-086c-40eb-a635-19708c926eec",
   "metadata": {},
   "outputs": [
    {
     "data": {
      "text/plain": [
       "5472.0"
      ]
     },
     "execution_count": 16,
     "metadata": {},
     "output_type": "execute_result"
    }
   ],
   "source": [
    "data['image']['details']['width']"
   ]
  },
  {
   "cell_type": "code",
   "execution_count": 8,
   "id": "6f165832-366d-416c-8094-69059de2d8fc",
   "metadata": {},
   "outputs": [],
   "source": [
    "obj_data= data['objects'][0]"
   ]
  },
  {
   "cell_type": "code",
   "execution_count": 9,
   "id": "60300a9f-fe72-4194-b84e-18d1ba2d5586",
   "metadata": {},
   "outputs": [
    {
     "data": {
      "text/plain": [
       "{'name': 'monkey1', 'color': '#8517DF'}"
      ]
     },
     "execution_count": 9,
     "metadata": {},
     "output_type": "execute_result"
    }
   ],
   "source": [
    "obj_data['category']"
   ]
  },
  {
   "cell_type": "code",
   "execution_count": 10,
   "id": "955ec03b-6020-4549-9910-f26403f92eea",
   "metadata": {},
   "outputs": [
    {
     "data": {
      "text/plain": [
       "[{'polygon': [0.381772,\n",
       "   0.155856,\n",
       "   0.383684,\n",
       "   0.14247,\n",
       "   0.397068,\n",
       "   0.143426,\n",
       "   0.404079,\n",
       "   0.155856,\n",
       "   0.400255,\n",
       "   0.163505,\n",
       "   0.391969,\n",
       "   0.164462],\n",
       "  'category': {'name': 'left eye', 'color': '#5EC256'},\n",
       "  'tags': [],\n",
       "  'parts': []},\n",
       " {'bndbox': {'minX': 0.362014,\n",
       "   'minY': 0.166374,\n",
       "   'maxX': 0.384959,\n",
       "   'maxY': 0.217051},\n",
       "  'category': {'name': 'nose', 'color': '#9AEDDC'},\n",
       "  'tags': [],\n",
       "  'parts': []}]"
      ]
     },
     "execution_count": 10,
     "metadata": {},
     "output_type": "execute_result"
    }
   ],
   "source": [
    "obj_data['parts']"
   ]
  },
  {
   "cell_type": "code",
   "execution_count": 11,
   "id": "23740ed2-42e7-4803-af1d-cfbb2a586c53",
   "metadata": {},
   "outputs": [
    {
     "ename": "ValueError",
     "evalue": "Mixing dicts with non-Series may lead to ambiguous ordering.",
     "output_type": "error",
     "traceback": [
      "\u001b[0;31m---------------------------------------------------------------------------\u001b[0m",
      "\u001b[0;31mValueError\u001b[0m                                Traceback (most recent call last)",
      "Input \u001b[0;32mIn [11]\u001b[0m, in \u001b[0;36m<cell line: 1>\u001b[0;34m()\u001b[0m\n\u001b[0;32m----> 1\u001b[0m df2 \u001b[38;5;241m=\u001b[39m \u001b[43mpd\u001b[49m\u001b[38;5;241;43m.\u001b[39;49m\u001b[43mDataFrame\u001b[49m\u001b[43m(\u001b[49m\u001b[43mdata\u001b[49m\u001b[43m)\u001b[49m\n",
      "File \u001b[0;32m/opt/miniconda3/envs/pandasenv/lib/python3.10/site-packages/pandas/core/frame.py:636\u001b[0m, in \u001b[0;36mDataFrame.__init__\u001b[0;34m(self, data, index, columns, dtype, copy)\u001b[0m\n\u001b[1;32m    630\u001b[0m     mgr \u001b[38;5;241m=\u001b[39m \u001b[38;5;28mself\u001b[39m\u001b[38;5;241m.\u001b[39m_init_mgr(\n\u001b[1;32m    631\u001b[0m         data, axes\u001b[38;5;241m=\u001b[39m{\u001b[38;5;124m\"\u001b[39m\u001b[38;5;124mindex\u001b[39m\u001b[38;5;124m\"\u001b[39m: index, \u001b[38;5;124m\"\u001b[39m\u001b[38;5;124mcolumns\u001b[39m\u001b[38;5;124m\"\u001b[39m: columns}, dtype\u001b[38;5;241m=\u001b[39mdtype, copy\u001b[38;5;241m=\u001b[39mcopy\n\u001b[1;32m    632\u001b[0m     )\n\u001b[1;32m    634\u001b[0m \u001b[38;5;28;01melif\u001b[39;00m \u001b[38;5;28misinstance\u001b[39m(data, \u001b[38;5;28mdict\u001b[39m):\n\u001b[1;32m    635\u001b[0m     \u001b[38;5;66;03m# GH#38939 de facto copy defaults to False only in non-dict cases\u001b[39;00m\n\u001b[0;32m--> 636\u001b[0m     mgr \u001b[38;5;241m=\u001b[39m \u001b[43mdict_to_mgr\u001b[49m\u001b[43m(\u001b[49m\u001b[43mdata\u001b[49m\u001b[43m,\u001b[49m\u001b[43m \u001b[49m\u001b[43mindex\u001b[49m\u001b[43m,\u001b[49m\u001b[43m \u001b[49m\u001b[43mcolumns\u001b[49m\u001b[43m,\u001b[49m\u001b[43m \u001b[49m\u001b[43mdtype\u001b[49m\u001b[38;5;241;43m=\u001b[39;49m\u001b[43mdtype\u001b[49m\u001b[43m,\u001b[49m\u001b[43m \u001b[49m\u001b[43mcopy\u001b[49m\u001b[38;5;241;43m=\u001b[39;49m\u001b[43mcopy\u001b[49m\u001b[43m,\u001b[49m\u001b[43m \u001b[49m\u001b[43mtyp\u001b[49m\u001b[38;5;241;43m=\u001b[39;49m\u001b[43mmanager\u001b[49m\u001b[43m)\u001b[49m\n\u001b[1;32m    637\u001b[0m \u001b[38;5;28;01melif\u001b[39;00m \u001b[38;5;28misinstance\u001b[39m(data, ma\u001b[38;5;241m.\u001b[39mMaskedArray):\n\u001b[1;32m    638\u001b[0m     \u001b[38;5;28;01mimport\u001b[39;00m \u001b[38;5;21;01mnumpy\u001b[39;00m\u001b[38;5;21;01m.\u001b[39;00m\u001b[38;5;21;01mma\u001b[39;00m\u001b[38;5;21;01m.\u001b[39;00m\u001b[38;5;21;01mmrecords\u001b[39;00m \u001b[38;5;28;01mas\u001b[39;00m \u001b[38;5;21;01mmrecords\u001b[39;00m\n",
      "File \u001b[0;32m/opt/miniconda3/envs/pandasenv/lib/python3.10/site-packages/pandas/core/internals/construction.py:502\u001b[0m, in \u001b[0;36mdict_to_mgr\u001b[0;34m(data, index, columns, dtype, typ, copy)\u001b[0m\n\u001b[1;32m    494\u001b[0m     arrays \u001b[38;5;241m=\u001b[39m [\n\u001b[1;32m    495\u001b[0m         x\n\u001b[1;32m    496\u001b[0m         \u001b[38;5;28;01mif\u001b[39;00m \u001b[38;5;129;01mnot\u001b[39;00m \u001b[38;5;28mhasattr\u001b[39m(x, \u001b[38;5;124m\"\u001b[39m\u001b[38;5;124mdtype\u001b[39m\u001b[38;5;124m\"\u001b[39m) \u001b[38;5;129;01mor\u001b[39;00m \u001b[38;5;129;01mnot\u001b[39;00m \u001b[38;5;28misinstance\u001b[39m(x\u001b[38;5;241m.\u001b[39mdtype, ExtensionDtype)\n\u001b[1;32m    497\u001b[0m         \u001b[38;5;28;01melse\u001b[39;00m x\u001b[38;5;241m.\u001b[39mcopy()\n\u001b[1;32m    498\u001b[0m         \u001b[38;5;28;01mfor\u001b[39;00m x \u001b[38;5;129;01min\u001b[39;00m arrays\n\u001b[1;32m    499\u001b[0m     ]\n\u001b[1;32m    500\u001b[0m     \u001b[38;5;66;03m# TODO: can we get rid of the dt64tz special case above?\u001b[39;00m\n\u001b[0;32m--> 502\u001b[0m \u001b[38;5;28;01mreturn\u001b[39;00m \u001b[43marrays_to_mgr\u001b[49m\u001b[43m(\u001b[49m\u001b[43marrays\u001b[49m\u001b[43m,\u001b[49m\u001b[43m \u001b[49m\u001b[43mcolumns\u001b[49m\u001b[43m,\u001b[49m\u001b[43m \u001b[49m\u001b[43mindex\u001b[49m\u001b[43m,\u001b[49m\u001b[43m \u001b[49m\u001b[43mdtype\u001b[49m\u001b[38;5;241;43m=\u001b[39;49m\u001b[43mdtype\u001b[49m\u001b[43m,\u001b[49m\u001b[43m \u001b[49m\u001b[43mtyp\u001b[49m\u001b[38;5;241;43m=\u001b[39;49m\u001b[43mtyp\u001b[49m\u001b[43m,\u001b[49m\u001b[43m \u001b[49m\u001b[43mconsolidate\u001b[49m\u001b[38;5;241;43m=\u001b[39;49m\u001b[43mcopy\u001b[49m\u001b[43m)\u001b[49m\n",
      "File \u001b[0;32m/opt/miniconda3/envs/pandasenv/lib/python3.10/site-packages/pandas/core/internals/construction.py:120\u001b[0m, in \u001b[0;36marrays_to_mgr\u001b[0;34m(arrays, columns, index, dtype, verify_integrity, typ, consolidate)\u001b[0m\n\u001b[1;32m    117\u001b[0m \u001b[38;5;28;01mif\u001b[39;00m verify_integrity:\n\u001b[1;32m    118\u001b[0m     \u001b[38;5;66;03m# figure out the index, if necessary\u001b[39;00m\n\u001b[1;32m    119\u001b[0m     \u001b[38;5;28;01mif\u001b[39;00m index \u001b[38;5;129;01mis\u001b[39;00m \u001b[38;5;28;01mNone\u001b[39;00m:\n\u001b[0;32m--> 120\u001b[0m         index \u001b[38;5;241m=\u001b[39m \u001b[43m_extract_index\u001b[49m\u001b[43m(\u001b[49m\u001b[43marrays\u001b[49m\u001b[43m)\u001b[49m\n\u001b[1;32m    121\u001b[0m     \u001b[38;5;28;01melse\u001b[39;00m:\n\u001b[1;32m    122\u001b[0m         index \u001b[38;5;241m=\u001b[39m ensure_index(index)\n",
      "File \u001b[0;32m/opt/miniconda3/envs/pandasenv/lib/python3.10/site-packages/pandas/core/internals/construction.py:677\u001b[0m, in \u001b[0;36m_extract_index\u001b[0;34m(data)\u001b[0m\n\u001b[1;32m    674\u001b[0m     \u001b[38;5;28;01mraise\u001b[39;00m \u001b[38;5;167;01mValueError\u001b[39;00m(\u001b[38;5;124m\"\u001b[39m\u001b[38;5;124mAll arrays must be of the same length\u001b[39m\u001b[38;5;124m\"\u001b[39m)\n\u001b[1;32m    676\u001b[0m \u001b[38;5;28;01mif\u001b[39;00m have_dicts:\n\u001b[0;32m--> 677\u001b[0m     \u001b[38;5;28;01mraise\u001b[39;00m \u001b[38;5;167;01mValueError\u001b[39;00m(\n\u001b[1;32m    678\u001b[0m         \u001b[38;5;124m\"\u001b[39m\u001b[38;5;124mMixing dicts with non-Series may lead to ambiguous ordering.\u001b[39m\u001b[38;5;124m\"\u001b[39m\n\u001b[1;32m    679\u001b[0m     )\n\u001b[1;32m    681\u001b[0m \u001b[38;5;28;01mif\u001b[39;00m have_series:\n\u001b[1;32m    682\u001b[0m     \u001b[38;5;28;01massert\u001b[39;00m index \u001b[38;5;129;01mis\u001b[39;00m \u001b[38;5;129;01mnot\u001b[39;00m \u001b[38;5;28;01mNone\u001b[39;00m  \u001b[38;5;66;03m# for mypy\u001b[39;00m\n",
      "\u001b[0;31mValueError\u001b[0m: Mixing dicts with non-Series may lead to ambiguous ordering."
     ]
    }
   ],
   "source": [
    "df2 = pd.DataFrame(data)"
   ]
  },
  {
   "cell_type": "code",
   "execution_count": null,
   "id": "e2907b45-504b-4f0b-9e66-44f43bba2985",
   "metadata": {},
   "outputs": [],
   "source": [
    "df2[\"image\"]"
   ]
  },
  {
   "cell_type": "code",
   "execution_count": null,
   "id": "1cd2b687-ff99-4fb2-bc85-187f890dec9c",
   "metadata": {},
   "outputs": [],
   "source": [
    "df2[\"objects\"]"
   ]
  },
  {
   "cell_type": "code",
   "execution_count": null,
   "id": "1f12caf8-a6ca-4425-9b82-e39ba209c16d",
   "metadata": {},
   "outputs": [],
   "source": [
    "for things in df2[\"image\"]:\n",
    "    print(things['details'])\n",
    "    print(things['fileName'])"
   ]
  },
  {
   "cell_type": "code",
   "execution_count": null,
   "id": "a89625f4-a46a-4d83-9cfb-ff3eececb1c3",
   "metadata": {},
   "outputs": [],
   "source": [
    "for things in df2[\"objects\"]:\n",
    "    print(things)"
   ]
  },
  {
   "cell_type": "code",
   "execution_count": 12,
   "id": "1c1c10ec-4d82-41ce-b788-0cc1d782fb9e",
   "metadata": {},
   "outputs": [],
   "source": [
    "df_try= pd.read_json(\"annotations.json\")"
   ]
  },
  {
   "cell_type": "code",
   "execution_count": 13,
   "id": "b0e982f4-9039-41e2-8abf-4fa802f058d7",
   "metadata": {},
   "outputs": [
    {
     "data": {
      "text/plain": [
       "pandas.core.series.Series"
      ]
     },
     "execution_count": 13,
     "metadata": {},
     "output_type": "execute_result"
    }
   ],
   "source": [
    "type(df_try.objects)"
   ]
  },
  {
   "cell_type": "code",
   "execution_count": 14,
   "id": "b1ca048e-e07c-4e2a-ae26-088db4797527",
   "metadata": {},
   "outputs": [
    {
     "ename": "KeyError",
     "evalue": "''",
     "output_type": "error",
     "traceback": [
      "\u001b[0;31m---------------------------------------------------------------------------\u001b[0m",
      "\u001b[0;31mKeyError\u001b[0m                                  Traceback (most recent call last)",
      "Input \u001b[0;32mIn [14]\u001b[0m, in \u001b[0;36m<cell line: 1>\u001b[0;34m()\u001b[0m\n\u001b[0;32m----> 1\u001b[0m bn \u001b[38;5;241m=\u001b[39m \u001b[43mpd\u001b[49m\u001b[38;5;241;43m.\u001b[39;49m\u001b[43mDataFrame\u001b[49m\u001b[43m(\u001b[49m\u001b[43mdf_try\u001b[49m\u001b[38;5;241;43m.\u001b[39;49m\u001b[43mobjects\u001b[49m\u001b[38;5;241;43m.\u001b[39;49m\u001b[43mvalues\u001b[49m\u001b[38;5;241;43m.\u001b[39;49m\u001b[43mtolist\u001b[49m\u001b[43m(\u001b[49m\u001b[43m)\u001b[49m\u001b[43m)\u001b[49m\u001b[43m[\u001b[49m\u001b[38;5;124;43m'\u001b[39;49m\u001b[38;5;124;43m'\u001b[39;49m\u001b[43m]\u001b[49m\n\u001b[1;32m      2\u001b[0m pd\u001b[38;5;241m.\u001b[39mDataFrame\u001b[38;5;241m.\u001b[39mfrom_records(bn)\n",
      "File \u001b[0;32m/opt/miniconda3/envs/pandasenv/lib/python3.10/site-packages/pandas/core/frame.py:3505\u001b[0m, in \u001b[0;36mDataFrame.__getitem__\u001b[0;34m(self, key)\u001b[0m\n\u001b[1;32m   3503\u001b[0m \u001b[38;5;28;01mif\u001b[39;00m \u001b[38;5;28mself\u001b[39m\u001b[38;5;241m.\u001b[39mcolumns\u001b[38;5;241m.\u001b[39mnlevels \u001b[38;5;241m>\u001b[39m \u001b[38;5;241m1\u001b[39m:\n\u001b[1;32m   3504\u001b[0m     \u001b[38;5;28;01mreturn\u001b[39;00m \u001b[38;5;28mself\u001b[39m\u001b[38;5;241m.\u001b[39m_getitem_multilevel(key)\n\u001b[0;32m-> 3505\u001b[0m indexer \u001b[38;5;241m=\u001b[39m \u001b[38;5;28;43mself\u001b[39;49m\u001b[38;5;241;43m.\u001b[39;49m\u001b[43mcolumns\u001b[49m\u001b[38;5;241;43m.\u001b[39;49m\u001b[43mget_loc\u001b[49m\u001b[43m(\u001b[49m\u001b[43mkey\u001b[49m\u001b[43m)\u001b[49m\n\u001b[1;32m   3506\u001b[0m \u001b[38;5;28;01mif\u001b[39;00m is_integer(indexer):\n\u001b[1;32m   3507\u001b[0m     indexer \u001b[38;5;241m=\u001b[39m [indexer]\n",
      "File \u001b[0;32m/opt/miniconda3/envs/pandasenv/lib/python3.10/site-packages/pandas/core/indexes/range.py:389\u001b[0m, in \u001b[0;36mRangeIndex.get_loc\u001b[0;34m(self, key, method, tolerance)\u001b[0m\n\u001b[1;32m    387\u001b[0m             \u001b[38;5;28;01mraise\u001b[39;00m \u001b[38;5;167;01mKeyError\u001b[39;00m(key) \u001b[38;5;28;01mfrom\u001b[39;00m \u001b[38;5;21;01merr\u001b[39;00m\n\u001b[1;32m    388\u001b[0m     \u001b[38;5;28mself\u001b[39m\u001b[38;5;241m.\u001b[39m_check_indexing_error(key)\n\u001b[0;32m--> 389\u001b[0m     \u001b[38;5;28;01mraise\u001b[39;00m \u001b[38;5;167;01mKeyError\u001b[39;00m(key)\n\u001b[1;32m    390\u001b[0m \u001b[38;5;28;01mreturn\u001b[39;00m \u001b[38;5;28msuper\u001b[39m()\u001b[38;5;241m.\u001b[39mget_loc(key, method\u001b[38;5;241m=\u001b[39mmethod, tolerance\u001b[38;5;241m=\u001b[39mtolerance)\n",
      "\u001b[0;31mKeyError\u001b[0m: ''"
     ]
    }
   ],
   "source": [
    "bn = pd.DataFrame(df_try.objects.values.tolist())['']\n",
    "pd.DataFrame.from_records(bn)"
   ]
  },
  {
   "cell_type": "code",
   "execution_count": null,
   "id": "fa66f8b4-39b9-40bc-a368-3d5c2002a3ca",
   "metadata": {},
   "outputs": [],
   "source": [
    "df_try.objects.values.tolist()"
   ]
  }
 ],
 "metadata": {
  "kernelspec": {
   "display_name": "pandasenv",
   "language": "python",
   "name": "pandasenv"
  },
  "language_info": {
   "codemirror_mode": {
    "name": "ipython",
    "version": 3
   },
   "file_extension": ".py",
   "mimetype": "text/x-python",
   "name": "python",
   "nbconvert_exporter": "python",
   "pygments_lexer": "ipython3",
   "version": "3.10.4"
  }
 },
 "nbformat": 4,
 "nbformat_minor": 5
}

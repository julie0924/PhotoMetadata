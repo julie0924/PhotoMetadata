{
 "cells": [
  {
   "cell_type": "code",
   "execution_count": 1,
   "id": "00ddc038",
   "metadata": {},
   "outputs": [],
   "source": [
    "import os\n",
    "import json\n",
    "import pandas as pd"
   ]
  },
  {
   "cell_type": "code",
   "execution_count": 3,
   "id": "7285ca8d",
   "metadata": {},
   "outputs": [],
   "source": [
    "# create empty lists to store rows for table 1, 2, 3\n",
    "table1_rows = []\n",
    "table2_rows = []\n",
    "table3_rows = []\n",
    "table4_rows = []\n",
    "        \n",
    "# Lists for generating table 1    \n",
    "fileName=[]\n",
    "folderName=[]\n",
    "width=[]\n",
    "height=[]"
   ]
  },
  {
   "cell_type": "code",
   "execution_count": 6,
   "id": "1acf2e84",
   "metadata": {},
   "outputs": [
    {
     "name": "stdout",
     "output_type": "stream",
     "text": [
      "0317ZB.json\n",
      "0503ZB.json\n",
      "0415ZB.json\n",
      "0803ZB.json\n",
      "0421ZB.json\n",
      "0308ZB.json\n"
     ]
    },
    {
     "ename": "IndexError",
     "evalue": "list index out of range",
     "output_type": "error",
     "traceback": [
      "\u001b[0;31m---------------------------------------------------------------------------\u001b[0m",
      "\u001b[0;31mIndexError\u001b[0m                                Traceback (most recent call last)",
      "Input \u001b[0;32mIn [6]\u001b[0m, in \u001b[0;36m<cell line: 2>\u001b[0;34m()\u001b[0m\n\u001b[1;32m     32\u001b[0m \u001b[38;5;28;01mif\u001b[39;00m \u001b[38;5;124m'\u001b[39m\u001b[38;5;124mFace\u001b[39m\u001b[38;5;124m'\u001b[39m \u001b[38;5;129;01min\u001b[39;00m category_name \u001b[38;5;129;01mor\u001b[39;00m \u001b[38;5;124m'\u001b[39m\u001b[38;5;124mBody\u001b[39m\u001b[38;5;124m'\u001b[39m \u001b[38;5;129;01min\u001b[39;00m category_name:\n\u001b[1;32m     33\u001b[0m     monkey_id \u001b[38;5;241m=\u001b[39m category_name\u001b[38;5;241m.\u001b[39msplit()[\u001b[38;5;241m0\u001b[39m]\n\u001b[0;32m---> 34\u001b[0m     face_or_body \u001b[38;5;241m=\u001b[39m \u001b[43mcategory_name\u001b[49m\u001b[38;5;241;43m.\u001b[39;49m\u001b[43msplit\u001b[49m\u001b[43m(\u001b[49m\u001b[43m)\u001b[49m\u001b[43m[\u001b[49m\u001b[38;5;241;43m1\u001b[39;49m\u001b[43m]\u001b[49m\n\u001b[1;32m     35\u001b[0m     table2_rows\u001b[38;5;241m.\u001b[39mappend([file_name, monkey_id, face_or_body, coordinates])\n\u001b[1;32m     37\u001b[0m \u001b[38;5;66;03m# if the object is a toy, record its name and coordinates in table 3\u001b[39;00m\n",
      "\u001b[0;31mIndexError\u001b[0m: list index out of range"
     ]
    }
   ],
   "source": [
    "   \n",
    "# Loop through all JSON files in current directory\n",
    "for filename in os.listdir(os.getcwd()):\n",
    "    print(filename)\n",
    "    if filename.endswith('.json'):\n",
    "        with open(filename, 'r') as f:\n",
    "            data = json.load(f)\n",
    "\n",
    "            # extract folder name, filename, orientation for Table 1\n",
    "            for photo in data:\n",
    "                folder_name = photo['image']['details']['folderName']\n",
    "                file_name = photo['image']['fileName']\n",
    "                width = photo['image']['details']['width']\n",
    "                height = photo['image']['details']['height']\n",
    "                orientation = 'Landscape' if width > height else 'Portrait'    \n",
    "                table1_rows.append([folder_name, file_name, orientation])\n",
    "            # iterate through each photo in the data to extract information about the monkeys and toys in each photo\n",
    "            for photo in data:\n",
    "                folder_name = photo['image']['details']['folderName']\n",
    "                file_name = photo['image']['fileName']\n",
    "\n",
    "                # extract monkey / toy\n",
    "                for obj in photo['objects']:\n",
    "                    category_name = obj['category']['name']\n",
    "\n",
    "                    # calculate the coordinates of the bounding box for the object\n",
    "                    coordinates = [(int(obj['bndbox']['minX'] * width), int(obj['bndbox']['minY'] * height)),\n",
    "                                   (int(obj['bndbox']['maxX'] * width), int(obj['bndbox']['minY'] * height)),\n",
    "                                   (int(obj['bndbox']['maxX'] * width), int(obj['bndbox']['maxY'] * height)),\n",
    "                                   (int(obj['bndbox']['minX'] * width), int(obj['bndbox']['maxY'] * height))]\n",
    "\n",
    "                    # if object is monkey, extract monkeyID and Face/Body\n",
    "                    if 'Face' in category_name or 'Body' in category_name:\n",
    "                        monkey_id = category_name.split()[0]\n",
    "                        face_or_body = category_name.split()[1]\n",
    "                        table2_rows.append([file_name, monkey_id, face_or_body, coordinates])\n",
    "\n",
    "                    # if the object is a toy, record its name and coordinates in table 3\n",
    "                    elif 'Toy' in category_name:\n",
    "                        toy_name = category_name[4:]\n",
    "                        table3_rows.append([file_name, toy_name, coordinates])\n",
    "                        \n",
    "                    else:\n",
    "                        table4_rows.append(file_name, \"Error\")\n",
    "        if not data:\n",
    "            print(\"Error in retrieving data in\", file_name)"
   ]
  },
  {
   "cell_type": "code",
   "execution_count": null,
   "id": "1a1aa3ed",
   "metadata": {},
   "outputs": [],
   "source": [
    "# create dataframes from the rows and columns for table 2 and table 3\n",
    "table1 = pd.DataFrame.from_records(table1_rows, columns=['Folder Name', 'Image File Name', 'Orientation'])\n",
    "table2 = pd.DataFrame.from_records(table2_rows, columns=['Image File Name', 'Monkey ID', 'Face/Body', 'Coordinates'])\n",
    "table3 = pd.DataFrame.from_records(table3_rows, columns=['Image File Name', 'Toy Name', 'Coordinates'])"
   ]
  },
  {
   "cell_type": "code",
   "execution_count": null,
   "id": "8eaf61b6",
   "metadata": {},
   "outputs": [],
   "source": [
    "print(table1)\n",
    "print(table2)\n",
    "print(table3)"
   ]
  }
 ],
 "metadata": {
  "kernelspec": {
   "display_name": "Python 3 (ipykernel)",
   "language": "python",
   "name": "python3"
  },
  "language_info": {
   "codemirror_mode": {
    "name": "ipython",
    "version": 3
   },
   "file_extension": ".py",
   "mimetype": "text/x-python",
   "name": "python",
   "nbconvert_exporter": "python",
   "pygments_lexer": "ipython3",
   "version": "3.8.10"
  }
 },
 "nbformat": 4,
 "nbformat_minor": 5
}
